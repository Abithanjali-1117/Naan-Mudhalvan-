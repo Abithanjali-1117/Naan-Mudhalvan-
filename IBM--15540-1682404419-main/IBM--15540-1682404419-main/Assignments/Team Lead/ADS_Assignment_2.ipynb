{
  "cells": [
    {
      "cell_type": "code",
      "execution_count": null,
      "id": "728fd54e",
      "metadata": {
        "id": "728fd54e"
      },
      "outputs": [],
      "source": [
        "import numpy as np\n",
        "import pandas as pd "
      ]
    },
    {
      "cell_type": "code",
      "execution_count": null,
      "id": "d85fb3ac",
      "metadata": {
        "id": "d85fb3ac"
      },
      "outputs": [],
      "source": [
        "dt=pd.read_csv(\"House Price India.csv.zip\")"
      ]
    },
    {
      "cell_type": "code",
      "execution_count": null,
      "id": "10bddbac",
      "metadata": {
        "id": "10bddbac",
        "outputId": "298f53f6-4cd4-445c-c4a5-6b280ce68e35"
      },
      "outputs": [
        {
          "data": {
            "text/html": [
              "<div>\n",
              "<style scoped>\n",
              "    .dataframe tbody tr th:only-of-type {\n",
              "        vertical-align: middle;\n",
              "    }\n",
              "\n",
              "    .dataframe tbody tr th {\n",
              "        vertical-align: top;\n",
              "    }\n",
              "\n",
              "    .dataframe thead th {\n",
              "        text-align: right;\n",
              "    }\n",
              "</style>\n",
              "<table border=\"1\" class=\"dataframe\">\n",
              "  <thead>\n",
              "    <tr style=\"text-align: right;\">\n",
              "      <th></th>\n",
              "      <th>id</th>\n",
              "      <th>Date</th>\n",
              "      <th>number of bedrooms</th>\n",
              "      <th>number of bathrooms</th>\n",
              "      <th>living area</th>\n",
              "      <th>lot area</th>\n",
              "      <th>number of floors</th>\n",
              "      <th>waterfront present</th>\n",
              "      <th>number of views</th>\n",
              "      <th>condition of the house</th>\n",
              "      <th>...</th>\n",
              "      <th>Built Year</th>\n",
              "      <th>Renovation Year</th>\n",
              "      <th>Postal Code</th>\n",
              "      <th>Lattitude</th>\n",
              "      <th>Longitude</th>\n",
              "      <th>living_area_renov</th>\n",
              "      <th>lot_area_renov</th>\n",
              "      <th>Number of schools nearby</th>\n",
              "      <th>Distance from the airport</th>\n",
              "      <th>Price</th>\n",
              "    </tr>\n",
              "  </thead>\n",
              "  <tbody>\n",
              "    <tr>\n",
              "      <th>0</th>\n",
              "      <td>6762810145</td>\n",
              "      <td>42491</td>\n",
              "      <td>5</td>\n",
              "      <td>2.50</td>\n",
              "      <td>3650</td>\n",
              "      <td>9050</td>\n",
              "      <td>2.0</td>\n",
              "      <td>0</td>\n",
              "      <td>4</td>\n",
              "      <td>5</td>\n",
              "      <td>...</td>\n",
              "      <td>1921</td>\n",
              "      <td>0</td>\n",
              "      <td>122003</td>\n",
              "      <td>52.8645</td>\n",
              "      <td>-114.557</td>\n",
              "      <td>2880</td>\n",
              "      <td>5400</td>\n",
              "      <td>2</td>\n",
              "      <td>58</td>\n",
              "      <td>2380000</td>\n",
              "    </tr>\n",
              "    <tr>\n",
              "      <th>1</th>\n",
              "      <td>6762810635</td>\n",
              "      <td>42491</td>\n",
              "      <td>4</td>\n",
              "      <td>2.50</td>\n",
              "      <td>2920</td>\n",
              "      <td>4000</td>\n",
              "      <td>1.5</td>\n",
              "      <td>0</td>\n",
              "      <td>0</td>\n",
              "      <td>5</td>\n",
              "      <td>...</td>\n",
              "      <td>1909</td>\n",
              "      <td>0</td>\n",
              "      <td>122004</td>\n",
              "      <td>52.8878</td>\n",
              "      <td>-114.470</td>\n",
              "      <td>2470</td>\n",
              "      <td>4000</td>\n",
              "      <td>2</td>\n",
              "      <td>51</td>\n",
              "      <td>1400000</td>\n",
              "    </tr>\n",
              "    <tr>\n",
              "      <th>2</th>\n",
              "      <td>6762810998</td>\n",
              "      <td>42491</td>\n",
              "      <td>5</td>\n",
              "      <td>2.75</td>\n",
              "      <td>2910</td>\n",
              "      <td>9480</td>\n",
              "      <td>1.5</td>\n",
              "      <td>0</td>\n",
              "      <td>0</td>\n",
              "      <td>3</td>\n",
              "      <td>...</td>\n",
              "      <td>1939</td>\n",
              "      <td>0</td>\n",
              "      <td>122004</td>\n",
              "      <td>52.8852</td>\n",
              "      <td>-114.468</td>\n",
              "      <td>2940</td>\n",
              "      <td>6600</td>\n",
              "      <td>1</td>\n",
              "      <td>53</td>\n",
              "      <td>1200000</td>\n",
              "    </tr>\n",
              "    <tr>\n",
              "      <th>3</th>\n",
              "      <td>6762812605</td>\n",
              "      <td>42491</td>\n",
              "      <td>4</td>\n",
              "      <td>2.50</td>\n",
              "      <td>3310</td>\n",
              "      <td>42998</td>\n",
              "      <td>2.0</td>\n",
              "      <td>0</td>\n",
              "      <td>0</td>\n",
              "      <td>3</td>\n",
              "      <td>...</td>\n",
              "      <td>2001</td>\n",
              "      <td>0</td>\n",
              "      <td>122005</td>\n",
              "      <td>52.9532</td>\n",
              "      <td>-114.321</td>\n",
              "      <td>3350</td>\n",
              "      <td>42847</td>\n",
              "      <td>3</td>\n",
              "      <td>76</td>\n",
              "      <td>838000</td>\n",
              "    </tr>\n",
              "    <tr>\n",
              "      <th>4</th>\n",
              "      <td>6762812919</td>\n",
              "      <td>42491</td>\n",
              "      <td>3</td>\n",
              "      <td>2.00</td>\n",
              "      <td>2710</td>\n",
              "      <td>4500</td>\n",
              "      <td>1.5</td>\n",
              "      <td>0</td>\n",
              "      <td>0</td>\n",
              "      <td>4</td>\n",
              "      <td>...</td>\n",
              "      <td>1929</td>\n",
              "      <td>0</td>\n",
              "      <td>122006</td>\n",
              "      <td>52.9047</td>\n",
              "      <td>-114.485</td>\n",
              "      <td>2060</td>\n",
              "      <td>4500</td>\n",
              "      <td>1</td>\n",
              "      <td>51</td>\n",
              "      <td>805000</td>\n",
              "    </tr>\n",
              "  </tbody>\n",
              "</table>\n",
              "<p>5 rows × 23 columns</p>\n",
              "</div>"
            ],
            "text/plain": [
              "           id   Date  number of bedrooms  number of bathrooms  living area  \\\n",
              "0  6762810145  42491                   5                 2.50         3650   \n",
              "1  6762810635  42491                   4                 2.50         2920   \n",
              "2  6762810998  42491                   5                 2.75         2910   \n",
              "3  6762812605  42491                   4                 2.50         3310   \n",
              "4  6762812919  42491                   3                 2.00         2710   \n",
              "\n",
              "   lot area  number of floors  waterfront present  number of views  \\\n",
              "0      9050               2.0                   0                4   \n",
              "1      4000               1.5                   0                0   \n",
              "2      9480               1.5                   0                0   \n",
              "3     42998               2.0                   0                0   \n",
              "4      4500               1.5                   0                0   \n",
              "\n",
              "   condition of the house  ...  Built Year  Renovation Year  Postal Code  \\\n",
              "0                       5  ...        1921                0       122003   \n",
              "1                       5  ...        1909                0       122004   \n",
              "2                       3  ...        1939                0       122004   \n",
              "3                       3  ...        2001                0       122005   \n",
              "4                       4  ...        1929                0       122006   \n",
              "\n",
              "   Lattitude  Longitude  living_area_renov  lot_area_renov  \\\n",
              "0    52.8645   -114.557               2880            5400   \n",
              "1    52.8878   -114.470               2470            4000   \n",
              "2    52.8852   -114.468               2940            6600   \n",
              "3    52.9532   -114.321               3350           42847   \n",
              "4    52.9047   -114.485               2060            4500   \n",
              "\n",
              "   Number of schools nearby  Distance from the airport    Price  \n",
              "0                         2                         58  2380000  \n",
              "1                         2                         51  1400000  \n",
              "2                         1                         53  1200000  \n",
              "3                         3                         76   838000  \n",
              "4                         1                         51   805000  \n",
              "\n",
              "[5 rows x 23 columns]"
            ]
          },
          "execution_count": 3,
          "metadata": {},
          "output_type": "execute_result"
        }
      ],
      "source": [
        "dt.head()"
      ]
    },
    {
      "cell_type": "code",
      "execution_count": null,
      "id": "b107bc52",
      "metadata": {
        "id": "b107bc52",
        "outputId": "68e095c7-69ad-4419-ba48-737140f356f7"
      },
      "outputs": [
        {
          "data": {
            "text/html": [
              "<div>\n",
              "<style scoped>\n",
              "    .dataframe tbody tr th:only-of-type {\n",
              "        vertical-align: middle;\n",
              "    }\n",
              "\n",
              "    .dataframe tbody tr th {\n",
              "        vertical-align: top;\n",
              "    }\n",
              "\n",
              "    .dataframe thead th {\n",
              "        text-align: right;\n",
              "    }\n",
              "</style>\n",
              "<table border=\"1\" class=\"dataframe\">\n",
              "  <thead>\n",
              "    <tr style=\"text-align: right;\">\n",
              "      <th></th>\n",
              "      <th>id</th>\n",
              "      <th>Date</th>\n",
              "      <th>number of bedrooms</th>\n",
              "      <th>number of bathrooms</th>\n",
              "      <th>living area</th>\n",
              "      <th>lot area</th>\n",
              "      <th>number of floors</th>\n",
              "      <th>waterfront present</th>\n",
              "      <th>number of views</th>\n",
              "      <th>condition of the house</th>\n",
              "      <th>...</th>\n",
              "      <th>Built Year</th>\n",
              "      <th>Renovation Year</th>\n",
              "      <th>Postal Code</th>\n",
              "      <th>Lattitude</th>\n",
              "      <th>Longitude</th>\n",
              "      <th>living_area_renov</th>\n",
              "      <th>lot_area_renov</th>\n",
              "      <th>Number of schools nearby</th>\n",
              "      <th>Distance from the airport</th>\n",
              "      <th>Price</th>\n",
              "    </tr>\n",
              "  </thead>\n",
              "  <tbody>\n",
              "    <tr>\n",
              "      <th>14615</th>\n",
              "      <td>6762830250</td>\n",
              "      <td>42734</td>\n",
              "      <td>2</td>\n",
              "      <td>1.5</td>\n",
              "      <td>1556</td>\n",
              "      <td>20000</td>\n",
              "      <td>1.0</td>\n",
              "      <td>0</td>\n",
              "      <td>0</td>\n",
              "      <td>4</td>\n",
              "      <td>...</td>\n",
              "      <td>1957</td>\n",
              "      <td>0</td>\n",
              "      <td>122066</td>\n",
              "      <td>52.6191</td>\n",
              "      <td>-114.472</td>\n",
              "      <td>2250</td>\n",
              "      <td>17286</td>\n",
              "      <td>3</td>\n",
              "      <td>76</td>\n",
              "      <td>221700</td>\n",
              "    </tr>\n",
              "    <tr>\n",
              "      <th>14616</th>\n",
              "      <td>6762830339</td>\n",
              "      <td>42734</td>\n",
              "      <td>3</td>\n",
              "      <td>2.0</td>\n",
              "      <td>1680</td>\n",
              "      <td>7000</td>\n",
              "      <td>1.5</td>\n",
              "      <td>0</td>\n",
              "      <td>0</td>\n",
              "      <td>4</td>\n",
              "      <td>...</td>\n",
              "      <td>1968</td>\n",
              "      <td>0</td>\n",
              "      <td>122072</td>\n",
              "      <td>52.5075</td>\n",
              "      <td>-114.393</td>\n",
              "      <td>1540</td>\n",
              "      <td>7480</td>\n",
              "      <td>3</td>\n",
              "      <td>59</td>\n",
              "      <td>219200</td>\n",
              "    </tr>\n",
              "    <tr>\n",
              "      <th>14617</th>\n",
              "      <td>6762830618</td>\n",
              "      <td>42734</td>\n",
              "      <td>2</td>\n",
              "      <td>1.0</td>\n",
              "      <td>1070</td>\n",
              "      <td>6120</td>\n",
              "      <td>1.0</td>\n",
              "      <td>0</td>\n",
              "      <td>0</td>\n",
              "      <td>3</td>\n",
              "      <td>...</td>\n",
              "      <td>1962</td>\n",
              "      <td>0</td>\n",
              "      <td>122056</td>\n",
              "      <td>52.7289</td>\n",
              "      <td>-114.507</td>\n",
              "      <td>1130</td>\n",
              "      <td>6120</td>\n",
              "      <td>2</td>\n",
              "      <td>64</td>\n",
              "      <td>209000</td>\n",
              "    </tr>\n",
              "    <tr>\n",
              "      <th>14618</th>\n",
              "      <td>6762830709</td>\n",
              "      <td>42734</td>\n",
              "      <td>4</td>\n",
              "      <td>1.0</td>\n",
              "      <td>1030</td>\n",
              "      <td>6621</td>\n",
              "      <td>1.0</td>\n",
              "      <td>0</td>\n",
              "      <td>0</td>\n",
              "      <td>4</td>\n",
              "      <td>...</td>\n",
              "      <td>1955</td>\n",
              "      <td>0</td>\n",
              "      <td>122042</td>\n",
              "      <td>52.7157</td>\n",
              "      <td>-114.411</td>\n",
              "      <td>1420</td>\n",
              "      <td>6631</td>\n",
              "      <td>3</td>\n",
              "      <td>54</td>\n",
              "      <td>205000</td>\n",
              "    </tr>\n",
              "    <tr>\n",
              "      <th>14619</th>\n",
              "      <td>6762831463</td>\n",
              "      <td>42734</td>\n",
              "      <td>3</td>\n",
              "      <td>1.0</td>\n",
              "      <td>900</td>\n",
              "      <td>4770</td>\n",
              "      <td>1.0</td>\n",
              "      <td>0</td>\n",
              "      <td>0</td>\n",
              "      <td>3</td>\n",
              "      <td>...</td>\n",
              "      <td>1969</td>\n",
              "      <td>2009</td>\n",
              "      <td>122018</td>\n",
              "      <td>52.5338</td>\n",
              "      <td>-114.552</td>\n",
              "      <td>900</td>\n",
              "      <td>3480</td>\n",
              "      <td>2</td>\n",
              "      <td>55</td>\n",
              "      <td>146000</td>\n",
              "    </tr>\n",
              "  </tbody>\n",
              "</table>\n",
              "<p>5 rows × 23 columns</p>\n",
              "</div>"
            ],
            "text/plain": [
              "               id   Date  number of bedrooms  number of bathrooms  \\\n",
              "14615  6762830250  42734                   2                  1.5   \n",
              "14616  6762830339  42734                   3                  2.0   \n",
              "14617  6762830618  42734                   2                  1.0   \n",
              "14618  6762830709  42734                   4                  1.0   \n",
              "14619  6762831463  42734                   3                  1.0   \n",
              "\n",
              "       living area  lot area  number of floors  waterfront present  \\\n",
              "14615         1556     20000               1.0                   0   \n",
              "14616         1680      7000               1.5                   0   \n",
              "14617         1070      6120               1.0                   0   \n",
              "14618         1030      6621               1.0                   0   \n",
              "14619          900      4770               1.0                   0   \n",
              "\n",
              "       number of views  condition of the house  ...  Built Year  \\\n",
              "14615                0                       4  ...        1957   \n",
              "14616                0                       4  ...        1968   \n",
              "14617                0                       3  ...        1962   \n",
              "14618                0                       4  ...        1955   \n",
              "14619                0                       3  ...        1969   \n",
              "\n",
              "       Renovation Year  Postal Code  Lattitude  Longitude  living_area_renov  \\\n",
              "14615                0       122066    52.6191   -114.472               2250   \n",
              "14616                0       122072    52.5075   -114.393               1540   \n",
              "14617                0       122056    52.7289   -114.507               1130   \n",
              "14618                0       122042    52.7157   -114.411               1420   \n",
              "14619             2009       122018    52.5338   -114.552                900   \n",
              "\n",
              "       lot_area_renov  Number of schools nearby  Distance from the airport  \\\n",
              "14615           17286                         3                         76   \n",
              "14616            7480                         3                         59   \n",
              "14617            6120                         2                         64   \n",
              "14618            6631                         3                         54   \n",
              "14619            3480                         2                         55   \n",
              "\n",
              "        Price  \n",
              "14615  221700  \n",
              "14616  219200  \n",
              "14617  209000  \n",
              "14618  205000  \n",
              "14619  146000  \n",
              "\n",
              "[5 rows x 23 columns]"
            ]
          },
          "execution_count": 4,
          "metadata": {},
          "output_type": "execute_result"
        }
      ],
      "source": [
        "dt.tail()"
      ]
    },
    {
      "cell_type": "code",
      "execution_count": null,
      "id": "58b2fdad",
      "metadata": {
        "id": "58b2fdad",
        "outputId": "1270c7f7-f991-4de6-d136-acfeb8c5bae4"
      },
      "outputs": [
        {
          "name": "stdout",
          "output_type": "stream",
          "text": [
            "<class 'pandas.core.frame.DataFrame'>\n",
            "RangeIndex: 14620 entries, 0 to 14619\n",
            "Data columns (total 23 columns):\n",
            " #   Column                                 Non-Null Count  Dtype  \n",
            "---  ------                                 --------------  -----  \n",
            " 0   id                                     14620 non-null  int64  \n",
            " 1   Date                                   14620 non-null  int64  \n",
            " 2   number of bedrooms                     14620 non-null  int64  \n",
            " 3   number of bathrooms                    14620 non-null  float64\n",
            " 4   living area                            14620 non-null  int64  \n",
            " 5   lot area                               14620 non-null  int64  \n",
            " 6   number of floors                       14620 non-null  float64\n",
            " 7   waterfront present                     14620 non-null  int64  \n",
            " 8   number of views                        14620 non-null  int64  \n",
            " 9   condition of the house                 14620 non-null  int64  \n",
            " 10  grade of the house                     14620 non-null  int64  \n",
            " 11  Area of the house(excluding basement)  14620 non-null  int64  \n",
            " 12  Area of the basement                   14620 non-null  int64  \n",
            " 13  Built Year                             14620 non-null  int64  \n",
            " 14  Renovation Year                        14620 non-null  int64  \n",
            " 15  Postal Code                            14620 non-null  int64  \n",
            " 16  Lattitude                              14620 non-null  float64\n",
            " 17  Longitude                              14620 non-null  float64\n",
            " 18  living_area_renov                      14620 non-null  int64  \n",
            " 19  lot_area_renov                         14620 non-null  int64  \n",
            " 20  Number of schools nearby               14620 non-null  int64  \n",
            " 21  Distance from the airport              14620 non-null  int64  \n",
            " 22  Price                                  14620 non-null  int64  \n",
            "dtypes: float64(4), int64(19)\n",
            "memory usage: 2.6 MB\n"
          ]
        }
      ],
      "source": [
        "dt.info()"
      ]
    },
    {
      "cell_type": "code",
      "execution_count": null,
      "id": "adf555fb",
      "metadata": {
        "id": "adf555fb",
        "outputId": "9ba5ac8b-26ba-4718-cdad-6da9b3e0c74a"
      },
      "outputs": [
        {
          "data": {
            "text/plain": [
              "(14620, 23)"
            ]
          },
          "execution_count": 6,
          "metadata": {},
          "output_type": "execute_result"
        }
      ],
      "source": [
        "dt.shape"
      ]
    },
    {
      "cell_type": "markdown",
      "id": "46e5bada",
      "metadata": {
        "id": "46e5bada"
      },
      "source": [
        "# Univariate, Bi-variate, Multi-variate Analysis"
      ]
    },
    {
      "cell_type": "code",
      "execution_count": null,
      "id": "5be7ad5a",
      "metadata": {
        "id": "5be7ad5a",
        "outputId": "f17d1da3-0d0c-468e-a852-edc800df1117"
      },
      "outputs": [
        {
          "data": {
            "text/plain": [
              "<Axes: xlabel='Price', ylabel='count'>"
            ]
          },
          "execution_count": 7,
          "metadata": {},
          "output_type": "execute_result"
        },
        {
          "data": {
            "image/png": "[encoded data removed]",
            "text/plain": [
              "<Figure size 640x480 with 1 Axes>"
            ]
          },
          "metadata": {},
          "output_type": "display_data"
        }
      ],
      "source": [
        "import seaborn as sns\n",
        "import matplotlib.pyplot as plot\n",
        "sns.countplot(data=dt,x='Price')"
      ]
    },
    {
      "cell_type": "code",
      "execution_count": null,
      "id": "6c9aa2f9",
      "metadata": {
        "id": "6c9aa2f9",
        "outputId": "74376479-b316-4884-b539-a87885ab54de"
      },
      "outputs": [
        {
          "data": {
            "text/plain": [
              "<Axes: xlabel='Price'>"
            ]
          },
          "execution_count": 8,
          "metadata": {},
          "output_type": "execute_result"
        },
        {
          "data": {
            "image/png": "[encoded data removed]",
            "text/plain": [
              "<Figure size 640x480 with 1 Axes>"
            ]
          },
          "metadata": {},
          "output_type": "display_data"
        }
      ],
      "source": [
        "sns.boxplot(data=dt,x='Price')"
      ]
    },
    {
      "cell_type": "code",
      "execution_count": null,
      "id": "413a7626",
      "metadata": {
        "id": "413a7626",
        "outputId": "a22bb5fe-1776-405f-f553-dd7da3d697a4"
      },
      "outputs": [
        {
          "data": {
            "text/plain": [
              "<Axes: >"
            ]
          },
          "execution_count": 9,
          "metadata": {},
          "output_type": "execute_result"
        },
        {
          "data": {
            "image/png": "[encoded data removed]",
            "text/plain": [
              "<Figure size 640x480 with 2 Axes>"
            ]
          },
          "metadata": {},
          "output_type": "display_data"
        }
      ],
      "source": [
        "sns.heatmap(dt.corr())"
      ]
    },
    {
      "cell_type": "code",
      "execution_count": null,
      "id": "1c311158",
      "metadata": {
        "id": "1c311158",
        "outputId": "108ce26f-13fd-4735-ff71-68479dece029"
      },
      "outputs": [
        {
          "data": {
            "text/plain": [
              "<Axes: xlabel='Price', ylabel='count'>"
            ]
          },
          "execution_count": 10,
          "metadata": {},
          "output_type": "execute_result"
        },
        {
          "data": {
            "image/png": "[encoded data removed]",
            "text/plain": [
              "<Figure size 640x480 with 1 Axes>"
            ]
          },
          "metadata": {},
          "output_type": "display_data"
        }
      ],
      "source": [
        "import matplotlib.pyplot as plt\n",
        "sns.countplot(data=dt,x='Price')"
      ]
    },
    {
      "cell_type": "code",
      "execution_count": null,
      "id": "0b02c088",
      "metadata": {
        "id": "0b02c088",
        "outputId": "c450c408-66b1-4d7d-8da5-4c035e09fc27"
      },
      "outputs": [
        {
          "data": {
            "text/plain": [
              "<Axes: xlabel='Price'>"
            ]
          },
          "execution_count": 11,
          "metadata": {},
          "output_type": "execute_result"
        },
        {
          "data": {
            "image/png": "[encoded data removed]",
            "text/plain": [
              "<Figure size 640x480 with 1 Axes>"
            ]
          },
          "metadata": {},
          "output_type": "display_data"
        }
      ],
      "source": [
        "sns.boxplot(data=dt,x='Price')"
      ]
    },
    {
      "cell_type": "code",
      "execution_count": null,
      "id": "a1d88e4e",
      "metadata": {
        "id": "a1d88e4e",
        "outputId": "8a551c4a-0394-4cdb-d1f2-099dbffc9734"
      },
      "outputs": [
        {
          "data": {
            "text/plain": [
              "<Axes: >"
            ]
          },
          "execution_count": 12,
          "metadata": {},
          "output_type": "execute_result"
        },
        {
          "data": {
            "image/png": "[encoded data removed]",
            "text/plain": [
              "<Figure size 640x480 with 2 Axes>"
            ]
          },
          "metadata": {},
          "output_type": "display_data"
        }
      ],
      "source": [
        "sns.heatmap(dt.corr())"
      ]
    },
    {
      "cell_type": "code",
      "execution_count": null,
      "id": "d1b6d084",
      "metadata": {
        "id": "d1b6d084",
        "outputId": "b46ec8d7-f101-49c3-bcb0-1c63a5c9a12e"
      },
      "outputs": [
        {
          "data": {
            "text/html": [
              "<div>\n",
              "<style scoped>\n",
              "    .dataframe tbody tr th:only-of-type {\n",
              "        vertical-align: middle;\n",
              "    }\n",
              "\n",
              "    .dataframe tbody tr th {\n",
              "        vertical-align: top;\n",
              "    }\n",
              "\n",
              "    .dataframe thead th {\n",
              "        text-align: right;\n",
              "    }\n",
              "</style>\n",
              "<table border=\"1\" class=\"dataframe\">\n",
              "  <thead>\n",
              "    <tr style=\"text-align: right;\">\n",
              "      <th></th>\n",
              "      <th>id</th>\n",
              "      <th>Date</th>\n",
              "      <th>number of bedrooms</th>\n",
              "      <th>number of bathrooms</th>\n",
              "      <th>living area</th>\n",
              "      <th>lot area</th>\n",
              "      <th>number of floors</th>\n",
              "      <th>waterfront present</th>\n",
              "      <th>number of views</th>\n",
              "      <th>condition of the house</th>\n",
              "      <th>...</th>\n",
              "      <th>Built Year</th>\n",
              "      <th>Renovation Year</th>\n",
              "      <th>Postal Code</th>\n",
              "      <th>Lattitude</th>\n",
              "      <th>Longitude</th>\n",
              "      <th>living_area_renov</th>\n",
              "      <th>lot_area_renov</th>\n",
              "      <th>Number of schools nearby</th>\n",
              "      <th>Distance from the airport</th>\n",
              "      <th>Price</th>\n",
              "    </tr>\n",
              "  </thead>\n",
              "  <tbody>\n",
              "    <tr>\n",
              "      <th>count</th>\n",
              "      <td>1.462000e+04</td>\n",
              "      <td>14620.000000</td>\n",
              "      <td>14620.000000</td>\n",
              "      <td>14620.000000</td>\n",
              "      <td>14620.000000</td>\n",
              "      <td>1.462000e+04</td>\n",
              "      <td>14620.000000</td>\n",
              "      <td>14620.000000</td>\n",
              "      <td>14620.000000</td>\n",
              "      <td>14620.000000</td>\n",
              "      <td>...</td>\n",
              "      <td>14620.000000</td>\n",
              "      <td>14620.000000</td>\n",
              "      <td>14620.000000</td>\n",
              "      <td>14620.000000</td>\n",
              "      <td>14620.000000</td>\n",
              "      <td>14620.000000</td>\n",
              "      <td>14620.000000</td>\n",
              "      <td>14620.000000</td>\n",
              "      <td>14620.000000</td>\n",
              "      <td>1.462000e+04</td>\n",
              "    </tr>\n",
              "    <tr>\n",
              "      <th>mean</th>\n",
              "      <td>6.762821e+09</td>\n",
              "      <td>42604.538646</td>\n",
              "      <td>3.379343</td>\n",
              "      <td>2.129583</td>\n",
              "      <td>2098.262996</td>\n",
              "      <td>1.509328e+04</td>\n",
              "      <td>1.502360</td>\n",
              "      <td>0.007661</td>\n",
              "      <td>0.233105</td>\n",
              "      <td>3.430506</td>\n",
              "      <td>...</td>\n",
              "      <td>1970.926402</td>\n",
              "      <td>90.924008</td>\n",
              "      <td>122033.062244</td>\n",
              "      <td>52.792848</td>\n",
              "      <td>-114.404007</td>\n",
              "      <td>1996.702257</td>\n",
              "      <td>12753.500068</td>\n",
              "      <td>2.012244</td>\n",
              "      <td>64.950958</td>\n",
              "      <td>5.389322e+05</td>\n",
              "    </tr>\n",
              "    <tr>\n",
              "      <th>std</th>\n",
              "      <td>6.237575e+03</td>\n",
              "      <td>67.347991</td>\n",
              "      <td>0.938719</td>\n",
              "      <td>0.769934</td>\n",
              "      <td>928.275721</td>\n",
              "      <td>3.791962e+04</td>\n",
              "      <td>0.540239</td>\n",
              "      <td>0.087193</td>\n",
              "      <td>0.766259</td>\n",
              "      <td>0.664151</td>\n",
              "      <td>...</td>\n",
              "      <td>29.493625</td>\n",
              "      <td>416.216661</td>\n",
              "      <td>19.082418</td>\n",
              "      <td>0.137522</td>\n",
              "      <td>0.141326</td>\n",
              "      <td>691.093366</td>\n",
              "      <td>26058.414467</td>\n",
              "      <td>0.817284</td>\n",
              "      <td>8.936008</td>\n",
              "      <td>3.675324e+05</td>\n",
              "    </tr>\n",
              "    <tr>\n",
              "      <th>min</th>\n",
              "      <td>6.762810e+09</td>\n",
              "      <td>42491.000000</td>\n",
              "      <td>1.000000</td>\n",
              "      <td>0.500000</td>\n",
              "      <td>370.000000</td>\n",
              "      <td>5.200000e+02</td>\n",
              "      <td>1.000000</td>\n",
              "      <td>0.000000</td>\n",
              "      <td>0.000000</td>\n",
              "      <td>1.000000</td>\n",
              "      <td>...</td>\n",
              "      <td>1900.000000</td>\n",
              "      <td>0.000000</td>\n",
              "      <td>122003.000000</td>\n",
              "      <td>52.385900</td>\n",
              "      <td>-114.709000</td>\n",
              "      <td>460.000000</td>\n",
              "      <td>651.000000</td>\n",
              "      <td>1.000000</td>\n",
              "      <td>50.000000</td>\n",
              "      <td>7.800000e+04</td>\n",
              "    </tr>\n",
              "    <tr>\n",
              "      <th>25%</th>\n",
              "      <td>6.762815e+09</td>\n",
              "      <td>42546.000000</td>\n",
              "      <td>3.000000</td>\n",
              "      <td>1.750000</td>\n",
              "      <td>1440.000000</td>\n",
              "      <td>5.010750e+03</td>\n",
              "      <td>1.000000</td>\n",
              "      <td>0.000000</td>\n",
              "      <td>0.000000</td>\n",
              "      <td>3.000000</td>\n",
              "      <td>...</td>\n",
              "      <td>1951.000000</td>\n",
              "      <td>0.000000</td>\n",
              "      <td>122017.000000</td>\n",
              "      <td>52.707600</td>\n",
              "      <td>-114.519000</td>\n",
              "      <td>1490.000000</td>\n",
              "      <td>5097.750000</td>\n",
              "      <td>1.000000</td>\n",
              "      <td>57.000000</td>\n",
              "      <td>3.200000e+05</td>\n",
              "    </tr>\n",
              "    <tr>\n",
              "      <th>50%</th>\n",
              "      <td>6.762821e+09</td>\n",
              "      <td>42600.000000</td>\n",
              "      <td>3.000000</td>\n",
              "      <td>2.250000</td>\n",
              "      <td>1930.000000</td>\n",
              "      <td>7.620000e+03</td>\n",
              "      <td>1.500000</td>\n",
              "      <td>0.000000</td>\n",
              "      <td>0.000000</td>\n",
              "      <td>3.000000</td>\n",
              "      <td>...</td>\n",
              "      <td>1975.000000</td>\n",
              "      <td>0.000000</td>\n",
              "      <td>122032.000000</td>\n",
              "      <td>52.806400</td>\n",
              "      <td>-114.421000</td>\n",
              "      <td>1850.000000</td>\n",
              "      <td>7620.000000</td>\n",
              "      <td>2.000000</td>\n",
              "      <td>65.000000</td>\n",
              "      <td>4.500000e+05</td>\n",
              "    </tr>\n",
              "    <tr>\n",
              "      <th>75%</th>\n",
              "      <td>6.762826e+09</td>\n",
              "      <td>42662.000000</td>\n",
              "      <td>4.000000</td>\n",
              "      <td>2.500000</td>\n",
              "      <td>2570.000000</td>\n",
              "      <td>1.080000e+04</td>\n",
              "      <td>2.000000</td>\n",
              "      <td>0.000000</td>\n",
              "      <td>0.000000</td>\n",
              "      <td>4.000000</td>\n",
              "      <td>...</td>\n",
              "      <td>1997.000000</td>\n",
              "      <td>0.000000</td>\n",
              "      <td>122048.000000</td>\n",
              "      <td>52.908900</td>\n",
              "      <td>-114.315000</td>\n",
              "      <td>2380.000000</td>\n",
              "      <td>10125.000000</td>\n",
              "      <td>3.000000</td>\n",
              "      <td>73.000000</td>\n",
              "      <td>6.450000e+05</td>\n",
              "    </tr>\n",
              "    <tr>\n",
              "      <th>max</th>\n",
              "      <td>6.762832e+09</td>\n",
              "      <td>42734.000000</td>\n",
              "      <td>33.000000</td>\n",
              "      <td>8.000000</td>\n",
              "      <td>13540.000000</td>\n",
              "      <td>1.074218e+06</td>\n",
              "      <td>3.500000</td>\n",
              "      <td>1.000000</td>\n",
              "      <td>4.000000</td>\n",
              "      <td>5.000000</td>\n",
              "      <td>...</td>\n",
              "      <td>2015.000000</td>\n",
              "      <td>2015.000000</td>\n",
              "      <td>122072.000000</td>\n",
              "      <td>53.007600</td>\n",
              "      <td>-113.505000</td>\n",
              "      <td>6110.000000</td>\n",
              "      <td>560617.000000</td>\n",
              "      <td>3.000000</td>\n",
              "      <td>80.000000</td>\n",
              "      <td>7.700000e+06</td>\n",
              "    </tr>\n",
              "  </tbody>\n",
              "</table>\n",
              "<p>8 rows × 23 columns</p>\n",
              "</div>"
            ],
            "text/plain": [
              "                 id          Date  number of bedrooms  number of bathrooms  \\\n",
              "count  1.462000e+04  14620.000000        14620.000000         14620.000000   \n",
              "mean   6.762821e+09  42604.538646            3.379343             2.129583   \n",
              "std    6.237575e+03     67.347991            0.938719             0.769934   \n",
              "min    6.762810e+09  42491.000000            1.000000             0.500000   \n",
              "25%    6.762815e+09  42546.000000            3.000000             1.750000   \n",
              "50%    6.762821e+09  42600.000000            3.000000             2.250000   \n",
              "75%    6.762826e+09  42662.000000            4.000000             2.500000   \n",
              "max    6.762832e+09  42734.000000           33.000000             8.000000   \n",
              "\n",
              "        living area      lot area  number of floors  waterfront present  \\\n",
              "count  14620.000000  1.462000e+04      14620.000000        14620.000000   \n",
              "mean    2098.262996  1.509328e+04          1.502360            0.007661   \n",
              "std      928.275721  3.791962e+04          0.540239            0.087193   \n",
              "min      370.000000  5.200000e+02          1.000000            0.000000   \n",
              "25%     1440.000000  5.010750e+03          1.000000            0.000000   \n",
              "50%     1930.000000  7.620000e+03          1.500000            0.000000   \n",
              "75%     2570.000000  1.080000e+04          2.000000            0.000000   \n",
              "max    13540.000000  1.074218e+06          3.500000            1.000000   \n",
              "\n",
              "       number of views  condition of the house  ...    Built Year  \\\n",
              "count     14620.000000            14620.000000  ...  14620.000000   \n",
              "mean          0.233105                3.430506  ...   1970.926402   \n",
              "std           0.766259                0.664151  ...     29.493625   \n",
              "min           0.000000                1.000000  ...   1900.000000   \n",
              "25%           0.000000                3.000000  ...   1951.000000   \n",
              "50%           0.000000                3.000000  ...   1975.000000   \n",
              "75%           0.000000                4.000000  ...   1997.000000   \n",
              "max           4.000000                5.000000  ...   2015.000000   \n",
              "\n",
              "       Renovation Year    Postal Code     Lattitude     Longitude  \\\n",
              "count     14620.000000   14620.000000  14620.000000  14620.000000   \n",
              "mean         90.924008  122033.062244     52.792848   -114.404007   \n",
              "std         416.216661      19.082418      0.137522      0.141326   \n",
              "min           0.000000  122003.000000     52.385900   -114.709000   \n",
              "25%           0.000000  122017.000000     52.707600   -114.519000   \n",
              "50%           0.000000  122032.000000     52.806400   -114.421000   \n",
              "75%           0.000000  122048.000000     52.908900   -114.315000   \n",
              "max        2015.000000  122072.000000     53.007600   -113.505000   \n",
              "\n",
              "       living_area_renov  lot_area_renov  Number of schools nearby  \\\n",
              "count       14620.000000    14620.000000              14620.000000   \n",
              "mean         1996.702257    12753.500068                  2.012244   \n",
              "std           691.093366    26058.414467                  0.817284   \n",
              "min           460.000000      651.000000                  1.000000   \n",
              "25%          1490.000000     5097.750000                  1.000000   \n",
              "50%          1850.000000     7620.000000                  2.000000   \n",
              "75%          2380.000000    10125.000000                  3.000000   \n",
              "max          6110.000000   560617.000000                  3.000000   \n",
              "\n",
              "       Distance from the airport         Price  \n",
              "count               14620.000000  1.462000e+04  \n",
              "mean                   64.950958  5.389322e+05  \n",
              "std                     8.936008  3.675324e+05  \n",
              "min                    50.000000  7.800000e+04  \n",
              "25%                    57.000000  3.200000e+05  \n",
              "50%                    65.000000  4.500000e+05  \n",
              "75%                    73.000000  6.450000e+05  \n",
              "max                    80.000000  7.700000e+06  \n",
              "\n",
              "[8 rows x 23 columns]"
            ]
          },
          "execution_count": 13,
          "metadata": {},
          "output_type": "execute_result"
        }
      ],
      "source": [
        "dt.describe(include='all')"
      ]
    },
    {
      "cell_type": "code",
      "execution_count": null,
      "id": "d26be099-4088-4a05-a37e-a584ca76918e",
      "metadata": {
        "id": "d26be099-4088-4a05-a37e-a584ca76918e",
        "outputId": "b2fb146b-7be3-457a-a0ed-ed600afd32d0"
      },
      "outputs": [
        {
          "data": {
            "text/html": [
              "<div>\n",
              "<style scoped>\n",
              "    .dataframe tbody tr th:only-of-type {\n",
              "        vertical-align: middle;\n",
              "    }\n",
              "\n",
              "    .dataframe tbody tr th {\n",
              "        vertical-align: top;\n",
              "    }\n",
              "\n",
              "    .dataframe thead th {\n",
              "        text-align: right;\n",
              "    }\n",
              "</style>\n",
              "<table border=\"1\" class=\"dataframe\">\n",
              "  <thead>\n",
              "    <tr style=\"text-align: right;\">\n",
              "      <th></th>\n",
              "      <th>id</th>\n",
              "      <th>Date</th>\n",
              "      <th>number of bedrooms</th>\n",
              "      <th>number of bathrooms</th>\n",
              "      <th>living area</th>\n",
              "      <th>lot area</th>\n",
              "      <th>number of floors</th>\n",
              "      <th>waterfront present</th>\n",
              "      <th>number of views</th>\n",
              "      <th>condition of the house</th>\n",
              "      <th>...</th>\n",
              "      <th>Built Year</th>\n",
              "      <th>Renovation Year</th>\n",
              "      <th>Postal Code</th>\n",
              "      <th>Lattitude</th>\n",
              "      <th>Longitude</th>\n",
              "      <th>living_area_renov</th>\n",
              "      <th>lot_area_renov</th>\n",
              "      <th>Number of schools nearby</th>\n",
              "      <th>Distance from the airport</th>\n",
              "      <th>Price</th>\n",
              "    </tr>\n",
              "  </thead>\n",
              "  <tbody>\n",
              "    <tr>\n",
              "      <th>0</th>\n",
              "      <td>False</td>\n",
              "      <td>False</td>\n",
              "      <td>False</td>\n",
              "      <td>False</td>\n",
              "      <td>False</td>\n",
              "      <td>False</td>\n",
              "      <td>False</td>\n",
              "      <td>False</td>\n",
              "      <td>False</td>\n",
              "      <td>False</td>\n",
              "      <td>...</td>\n",
              "      <td>False</td>\n",
              "      <td>False</td>\n",
              "      <td>False</td>\n",
              "      <td>False</td>\n",
              "      <td>False</td>\n",
              "      <td>False</td>\n",
              "      <td>False</td>\n",
              "      <td>False</td>\n",
              "      <td>False</td>\n",
              "      <td>False</td>\n",
              "    </tr>\n",
              "    <tr>\n",
              "      <th>1</th>\n",
              "      <td>False</td>\n",
              "      <td>False</td>\n",
              "      <td>False</td>\n",
              "      <td>False</td>\n",
              "      <td>False</td>\n",
              "      <td>False</td>\n",
              "      <td>False</td>\n",
              "      <td>False</td>\n",
              "      <td>False</td>\n",
              "      <td>False</td>\n",
              "      <td>...</td>\n",
              "      <td>False</td>\n",
              "      <td>False</td>\n",
              "      <td>False</td>\n",
              "      <td>False</td>\n",
              "      <td>False</td>\n",
              "      <td>False</td>\n",
              "      <td>False</td>\n",
              "      <td>False</td>\n",
              "      <td>False</td>\n",
              "      <td>False</td>\n",
              "    </tr>\n",
              "    <tr>\n",
              "      <th>2</th>\n",
              "      <td>False</td>\n",
              "      <td>False</td>\n",
              "      <td>False</td>\n",
              "      <td>False</td>\n",
              "      <td>False</td>\n",
              "      <td>False</td>\n",
              "      <td>False</td>\n",
              "      <td>False</td>\n",
              "      <td>False</td>\n",
              "      <td>False</td>\n",
              "      <td>...</td>\n",
              "      <td>False</td>\n",
              "      <td>False</td>\n",
              "      <td>False</td>\n",
              "      <td>False</td>\n",
              "      <td>False</td>\n",
              "      <td>False</td>\n",
              "      <td>False</td>\n",
              "      <td>False</td>\n",
              "      <td>False</td>\n",
              "      <td>False</td>\n",
              "    </tr>\n",
              "    <tr>\n",
              "      <th>3</th>\n",
              "      <td>False</td>\n",
              "      <td>False</td>\n",
              "      <td>False</td>\n",
              "      <td>False</td>\n",
              "      <td>False</td>\n",
              "      <td>False</td>\n",
              "      <td>False</td>\n",
              "      <td>False</td>\n",
              "      <td>False</td>\n",
              "      <td>False</td>\n",
              "      <td>...</td>\n",
              "      <td>False</td>\n",
              "      <td>False</td>\n",
              "      <td>False</td>\n",
              "      <td>False</td>\n",
              "      <td>False</td>\n",
              "      <td>False</td>\n",
              "      <td>False</td>\n",
              "      <td>False</td>\n",
              "      <td>False</td>\n",
              "      <td>False</td>\n",
              "    </tr>\n",
              "    <tr>\n",
              "      <th>4</th>\n",
              "      <td>False</td>\n",
              "      <td>False</td>\n",
              "      <td>False</td>\n",
              "      <td>False</td>\n",
              "      <td>False</td>\n",
              "      <td>False</td>\n",
              "      <td>False</td>\n",
              "      <td>False</td>\n",
              "      <td>False</td>\n",
              "      <td>False</td>\n",
              "      <td>...</td>\n",
              "      <td>False</td>\n",
              "      <td>False</td>\n",
              "      <td>False</td>\n",
              "      <td>False</td>\n",
              "      <td>False</td>\n",
              "      <td>False</td>\n",
              "      <td>False</td>\n",
              "      <td>False</td>\n",
              "      <td>False</td>\n",
              "      <td>False</td>\n",
              "    </tr>\n",
              "    <tr>\n",
              "      <th>...</th>\n",
              "      <td>...</td>\n",
              "      <td>...</td>\n",
              "      <td>...</td>\n",
              "      <td>...</td>\n",
              "      <td>...</td>\n",
              "      <td>...</td>\n",
              "      <td>...</td>\n",
              "      <td>...</td>\n",
              "      <td>...</td>\n",
              "      <td>...</td>\n",
              "      <td>...</td>\n",
              "      <td>...</td>\n",
              "      <td>...</td>\n",
              "      <td>...</td>\n",
              "      <td>...</td>\n",
              "      <td>...</td>\n",
              "      <td>...</td>\n",
              "      <td>...</td>\n",
              "      <td>...</td>\n",
              "      <td>...</td>\n",
              "      <td>...</td>\n",
              "    </tr>\n",
              "    <tr>\n",
              "      <th>14615</th>\n",
              "      <td>False</td>\n",
              "      <td>False</td>\n",
              "      <td>False</td>\n",
              "      <td>False</td>\n",
              "      <td>False</td>\n",
              "      <td>False</td>\n",
              "      <td>False</td>\n",
              "      <td>False</td>\n",
              "      <td>False</td>\n",
              "      <td>False</td>\n",
              "      <td>...</td>\n",
              "      <td>False</td>\n",
              "      <td>False</td>\n",
              "      <td>False</td>\n",
              "      <td>False</td>\n",
              "      <td>False</td>\n",
              "      <td>False</td>\n",
              "      <td>False</td>\n",
              "      <td>False</td>\n",
              "      <td>False</td>\n",
              "      <td>False</td>\n",
              "    </tr>\n",
              "    <tr>\n",
              "      <th>14616</th>\n",
              "      <td>False</td>\n",
              "      <td>False</td>\n",
              "      <td>False</td>\n",
              "      <td>False</td>\n",
              "      <td>False</td>\n",
              "      <td>False</td>\n",
              "      <td>False</td>\n",
              "      <td>False</td>\n",
              "      <td>False</td>\n",
              "      <td>False</td>\n",
              "      <td>...</td>\n",
              "      <td>False</td>\n",
              "      <td>False</td>\n",
              "      <td>False</td>\n",
              "      <td>False</td>\n",
              "      <td>False</td>\n",
              "      <td>False</td>\n",
              "      <td>False</td>\n",
              "      <td>False</td>\n",
              "      <td>False</td>\n",
              "      <td>False</td>\n",
              "    </tr>\n",
              "    <tr>\n",
              "      <th>14617</th>\n",
              "      <td>False</td>\n",
              "      <td>False</td>\n",
              "      <td>False</td>\n",
              "      <td>False</td>\n",
              "      <td>False</td>\n",
              "      <td>False</td>\n",
              "      <td>False</td>\n",
              "      <td>False</td>\n",
              "      <td>False</td>\n",
              "      <td>False</td>\n",
              "      <td>...</td>\n",
              "      <td>False</td>\n",
              "      <td>False</td>\n",
              "      <td>False</td>\n",
              "      <td>False</td>\n",
              "      <td>False</td>\n",
              "      <td>False</td>\n",
              "      <td>False</td>\n",
              "      <td>False</td>\n",
              "      <td>False</td>\n",
              "      <td>False</td>\n",
              "    </tr>\n",
              "    <tr>\n",
              "      <th>14618</th>\n",
              "      <td>False</td>\n",
              "      <td>False</td>\n",
              "      <td>False</td>\n",
              "      <td>False</td>\n",
              "      <td>False</td>\n",
              "      <td>False</td>\n",
              "      <td>False</td>\n",
              "      <td>False</td>\n",
              "      <td>False</td>\n",
              "      <td>False</td>\n",
              "      <td>...</td>\n",
              "      <td>False</td>\n",
              "      <td>False</td>\n",
              "      <td>False</td>\n",
              "      <td>False</td>\n",
              "      <td>False</td>\n",
              "      <td>False</td>\n",
              "      <td>False</td>\n",
              "      <td>False</td>\n",
              "      <td>False</td>\n",
              "      <td>False</td>\n",
              "    </tr>\n",
              "    <tr>\n",
              "      <th>14619</th>\n",
              "      <td>False</td>\n",
              "      <td>False</td>\n",
              "      <td>False</td>\n",
              "      <td>False</td>\n",
              "      <td>False</td>\n",
              "      <td>False</td>\n",
              "      <td>False</td>\n",
              "      <td>False</td>\n",
              "      <td>False</td>\n",
              "      <td>False</td>\n",
              "      <td>...</td>\n",
              "      <td>False</td>\n",
              "      <td>False</td>\n",
              "      <td>False</td>\n",
              "      <td>False</td>\n",
              "      <td>False</td>\n",
              "      <td>False</td>\n",
              "      <td>False</td>\n",
              "      <td>False</td>\n",
              "      <td>False</td>\n",
              "      <td>False</td>\n",
              "    </tr>\n",
              "  </tbody>\n",
              "</table>\n",
              "<p>14620 rows × 23 columns</p>\n",
              "</div>"
            ],
            "text/plain": [
              "          id   Date  number of bedrooms  number of bathrooms  living area  \\\n",
              "0      False  False               False                False        False   \n",
              "1      False  False               False                False        False   \n",
              "2      False  False               False                False        False   \n",
              "3      False  False               False                False        False   \n",
              "4      False  False               False                False        False   \n",
              "...      ...    ...                 ...                  ...          ...   \n",
              "14615  False  False               False                False        False   \n",
              "14616  False  False               False                False        False   \n",
              "14617  False  False               False                False        False   \n",
              "14618  False  False               False                False        False   \n",
              "14619  False  False               False                False        False   \n",
              "\n",
              "       lot area  number of floors  waterfront present  number of views  \\\n",
              "0         False             False               False            False   \n",
              "1         False             False               False            False   \n",
              "2         False             False               False            False   \n",
              "3         False             False               False            False   \n",
              "4         False             False               False            False   \n",
              "...         ...               ...                 ...              ...   \n",
              "14615     False             False               False            False   \n",
              "14616     False             False               False            False   \n",
              "14617     False             False               False            False   \n",
              "14618     False             False               False            False   \n",
              "14619     False             False               False            False   \n",
              "\n",
              "       condition of the house  ...  Built Year  Renovation Year  Postal Code  \\\n",
              "0                       False  ...       False            False        False   \n",
              "1                       False  ...       False            False        False   \n",
              "2                       False  ...       False            False        False   \n",
              "3                       False  ...       False            False        False   \n",
              "4                       False  ...       False            False        False   \n",
              "...                       ...  ...         ...              ...          ...   \n",
              "14615                   False  ...       False            False        False   \n",
              "14616                   False  ...       False            False        False   \n",
              "14617                   False  ...       False            False        False   \n",
              "14618                   False  ...       False            False        False   \n",
              "14619                   False  ...       False            False        False   \n",
              "\n",
              "       Lattitude  Longitude  living_area_renov  lot_area_renov  \\\n",
              "0          False      False              False           False   \n",
              "1          False      False              False           False   \n",
              "2          False      False              False           False   \n",
              "3          False      False              False           False   \n",
              "4          False      False              False           False   \n",
              "...          ...        ...                ...             ...   \n",
              "14615      False      False              False           False   \n",
              "14616      False      False              False           False   \n",
              "14617      False      False              False           False   \n",
              "14618      False      False              False           False   \n",
              "14619      False      False              False           False   \n",
              "\n",
              "       Number of schools nearby  Distance from the airport  Price  \n",
              "0                         False                      False  False  \n",
              "1                         False                      False  False  \n",
              "2                         False                      False  False  \n",
              "3                         False                      False  False  \n",
              "4                         False                      False  False  \n",
              "...                         ...                        ...    ...  \n",
              "14615                     False                      False  False  \n",
              "14616                     False                      False  False  \n",
              "14617                     False                      False  False  \n",
              "14618                     False                      False  False  \n",
              "14619                     False                      False  False  \n",
              "\n",
              "[14620 rows x 23 columns]"
            ]
          },
          "execution_count": 14,
          "metadata": {},
          "output_type": "execute_result"
        }
      ],
      "source": [
        "dt.isnull()"
      ]
    },
    {
      "cell_type": "markdown",
      "id": "aacaab72",
      "metadata": {
        "id": "aacaab72"
      },
      "source": [
        "# Missing values"
      ]
    },
    {
      "cell_type": "code",
      "execution_count": null,
      "id": "31c9b796",
      "metadata": {
        "id": "31c9b796",
        "outputId": "df40d96a-ac4c-4624-f5de-159d3e03b28b"
      },
      "outputs": [
        {
          "data": {
            "text/plain": [
              "id                                       0\n",
              "Date                                     0\n",
              "number of bedrooms                       0\n",
              "number of bathrooms                      0\n",
              "living area                              0\n",
              "lot area                                 0\n",
              "number of floors                         0\n",
              "waterfront present                       0\n",
              "number of views                          0\n",
              "condition of the house                   0\n",
              "grade of the house                       0\n",
              "Area of the house(excluding basement)    0\n",
              "Area of the basement                     0\n",
              "Built Year                               0\n",
              "Renovation Year                          0\n",
              "Postal Code                              0\n",
              "Lattitude                                0\n",
              "Longitude                                0\n",
              "living_area_renov                        0\n",
              "lot_area_renov                           0\n",
              "Number of schools nearby                 0\n",
              "Distance from the airport                0\n",
              "Price                                    0\n",
              "dtype: int64"
            ]
          },
          "execution_count": 15,
          "metadata": {},
          "output_type": "execute_result"
        }
      ],
      "source": [
        "dt.isnull().sum()"
      ]
    },
    {
      "cell_type": "code",
      "execution_count": null,
      "id": "9cf4a140",
      "metadata": {
        "id": "9cf4a140",
        "outputId": "8ed0a427-6be0-43ec-c11f-45664d24cf01"
      },
      "outputs": [
        {
          "data": {
            "text/plain": [
              "0"
            ]
          },
          "execution_count": 16,
          "metadata": {},
          "output_type": "execute_result"
        }
      ],
      "source": [
        "dt.isnull().sum().sum()"
      ]
    },
    {
      "cell_type": "code",
      "execution_count": null,
      "id": "c6f63683",
      "metadata": {
        "id": "c6f63683",
        "outputId": "3d34bb0f-fd96-4f5b-e346-ad9331750a46"
      },
      "outputs": [
        {
          "data": {
            "text/html": [
              "<div>\n",
              "<style scoped>\n",
              "    .dataframe tbody tr th:only-of-type {\n",
              "        vertical-align: middle;\n",
              "    }\n",
              "\n",
              "    .dataframe tbody tr th {\n",
              "        vertical-align: top;\n",
              "    }\n",
              "\n",
              "    .dataframe thead th {\n",
              "        text-align: right;\n",
              "    }\n",
              "</style>\n",
              "<table border=\"1\" class=\"dataframe\">\n",
              "  <thead>\n",
              "    <tr style=\"text-align: right;\">\n",
              "      <th></th>\n",
              "      <th>id</th>\n",
              "      <th>Date</th>\n",
              "      <th>number of bedrooms</th>\n",
              "      <th>number of bathrooms</th>\n",
              "      <th>living area</th>\n",
              "      <th>lot area</th>\n",
              "      <th>number of floors</th>\n",
              "      <th>waterfront present</th>\n",
              "      <th>number of views</th>\n",
              "      <th>condition of the house</th>\n",
              "      <th>...</th>\n",
              "      <th>Built Year</th>\n",
              "      <th>Renovation Year</th>\n",
              "      <th>Postal Code</th>\n",
              "      <th>Lattitude</th>\n",
              "      <th>Longitude</th>\n",
              "      <th>living_area_renov</th>\n",
              "      <th>lot_area_renov</th>\n",
              "      <th>Number of schools nearby</th>\n",
              "      <th>Distance from the airport</th>\n",
              "      <th>Price</th>\n",
              "    </tr>\n",
              "  </thead>\n",
              "  <tbody>\n",
              "    <tr>\n",
              "      <th>count</th>\n",
              "      <td>1.462000e+04</td>\n",
              "      <td>14620.000000</td>\n",
              "      <td>14620.000000</td>\n",
              "      <td>14620.000000</td>\n",
              "      <td>14620.000000</td>\n",
              "      <td>1.462000e+04</td>\n",
              "      <td>14620.000000</td>\n",
              "      <td>14620.000000</td>\n",
              "      <td>14620.000000</td>\n",
              "      <td>14620.000000</td>\n",
              "      <td>...</td>\n",
              "      <td>14620.000000</td>\n",
              "      <td>14620.000000</td>\n",
              "      <td>14620.000000</td>\n",
              "      <td>14620.000000</td>\n",
              "      <td>14620.000000</td>\n",
              "      <td>14620.000000</td>\n",
              "      <td>14620.000000</td>\n",
              "      <td>14620.000000</td>\n",
              "      <td>14620.000000</td>\n",
              "      <td>1.462000e+04</td>\n",
              "    </tr>\n",
              "    <tr>\n",
              "      <th>mean</th>\n",
              "      <td>6.762821e+09</td>\n",
              "      <td>42604.538646</td>\n",
              "      <td>3.379343</td>\n",
              "      <td>2.129583</td>\n",
              "      <td>2098.262996</td>\n",
              "      <td>1.509328e+04</td>\n",
              "      <td>1.502360</td>\n",
              "      <td>0.007661</td>\n",
              "      <td>0.233105</td>\n",
              "      <td>3.430506</td>\n",
              "      <td>...</td>\n",
              "      <td>1970.926402</td>\n",
              "      <td>90.924008</td>\n",
              "      <td>122033.062244</td>\n",
              "      <td>52.792848</td>\n",
              "      <td>-114.404007</td>\n",
              "      <td>1996.702257</td>\n",
              "      <td>12753.500068</td>\n",
              "      <td>2.012244</td>\n",
              "      <td>64.950958</td>\n",
              "      <td>5.389322e+05</td>\n",
              "    </tr>\n",
              "    <tr>\n",
              "      <th>std</th>\n",
              "      <td>6.237575e+03</td>\n",
              "      <td>67.347991</td>\n",
              "      <td>0.938719</td>\n",
              "      <td>0.769934</td>\n",
              "      <td>928.275721</td>\n",
              "      <td>3.791962e+04</td>\n",
              "      <td>0.540239</td>\n",
              "      <td>0.087193</td>\n",
              "      <td>0.766259</td>\n",
              "      <td>0.664151</td>\n",
              "      <td>...</td>\n",
              "      <td>29.493625</td>\n",
              "      <td>416.216661</td>\n",
              "      <td>19.082418</td>\n",
              "      <td>0.137522</td>\n",
              "      <td>0.141326</td>\n",
              "      <td>691.093366</td>\n",
              "      <td>26058.414467</td>\n",
              "      <td>0.817284</td>\n",
              "      <td>8.936008</td>\n",
              "      <td>3.675324e+05</td>\n",
              "    </tr>\n",
              "    <tr>\n",
              "      <th>min</th>\n",
              "      <td>6.762810e+09</td>\n",
              "      <td>42491.000000</td>\n",
              "      <td>1.000000</td>\n",
              "      <td>0.500000</td>\n",
              "      <td>370.000000</td>\n",
              "      <td>5.200000e+02</td>\n",
              "      <td>1.000000</td>\n",
              "      <td>0.000000</td>\n",
              "      <td>0.000000</td>\n",
              "      <td>1.000000</td>\n",
              "      <td>...</td>\n",
              "      <td>1900.000000</td>\n",
              "      <td>0.000000</td>\n",
              "      <td>122003.000000</td>\n",
              "      <td>52.385900</td>\n",
              "      <td>-114.709000</td>\n",
              "      <td>460.000000</td>\n",
              "      <td>651.000000</td>\n",
              "      <td>1.000000</td>\n",
              "      <td>50.000000</td>\n",
              "      <td>7.800000e+04</td>\n",
              "    </tr>\n",
              "    <tr>\n",
              "      <th>25%</th>\n",
              "      <td>6.762815e+09</td>\n",
              "      <td>42546.000000</td>\n",
              "      <td>3.000000</td>\n",
              "      <td>1.750000</td>\n",
              "      <td>1440.000000</td>\n",
              "      <td>5.010750e+03</td>\n",
              "      <td>1.000000</td>\n",
              "      <td>0.000000</td>\n",
              "      <td>0.000000</td>\n",
              "      <td>3.000000</td>\n",
              "      <td>...</td>\n",
              "      <td>1951.000000</td>\n",
              "      <td>0.000000</td>\n",
              "      <td>122017.000000</td>\n",
              "      <td>52.707600</td>\n",
              "      <td>-114.519000</td>\n",
              "      <td>1490.000000</td>\n",
              "      <td>5097.750000</td>\n",
              "      <td>1.000000</td>\n",
              "      <td>57.000000</td>\n",
              "      <td>3.200000e+05</td>\n",
              "    </tr>\n",
              "    <tr>\n",
              "      <th>50%</th>\n",
              "      <td>6.762821e+09</td>\n",
              "      <td>42600.000000</td>\n",
              "      <td>3.000000</td>\n",
              "      <td>2.250000</td>\n",
              "      <td>1930.000000</td>\n",
              "      <td>7.620000e+03</td>\n",
              "      <td>1.500000</td>\n",
              "      <td>0.000000</td>\n",
              "      <td>0.000000</td>\n",
              "      <td>3.000000</td>\n",
              "      <td>...</td>\n",
              "      <td>1975.000000</td>\n",
              "      <td>0.000000</td>\n",
              "      <td>122032.000000</td>\n",
              "      <td>52.806400</td>\n",
              "      <td>-114.421000</td>\n",
              "      <td>1850.000000</td>\n",
              "      <td>7620.000000</td>\n",
              "      <td>2.000000</td>\n",
              "      <td>65.000000</td>\n",
              "      <td>4.500000e+05</td>\n",
              "    </tr>\n",
              "    <tr>\n",
              "      <th>75%</th>\n",
              "      <td>6.762826e+09</td>\n",
              "      <td>42662.000000</td>\n",
              "      <td>4.000000</td>\n",
              "      <td>2.500000</td>\n",
              "      <td>2570.000000</td>\n",
              "      <td>1.080000e+04</td>\n",
              "      <td>2.000000</td>\n",
              "      <td>0.000000</td>\n",
              "      <td>0.000000</td>\n",
              "      <td>4.000000</td>\n",
              "      <td>...</td>\n",
              "      <td>1997.000000</td>\n",
              "      <td>0.000000</td>\n",
              "      <td>122048.000000</td>\n",
              "      <td>52.908900</td>\n",
              "      <td>-114.315000</td>\n",
              "      <td>2380.000000</td>\n",
              "      <td>10125.000000</td>\n",
              "      <td>3.000000</td>\n",
              "      <td>73.000000</td>\n",
              "      <td>6.450000e+05</td>\n",
              "    </tr>\n",
              "    <tr>\n",
              "      <th>max</th>\n",
              "      <td>6.762832e+09</td>\n",
              "      <td>42734.000000</td>\n",
              "      <td>33.000000</td>\n",
              "      <td>8.000000</td>\n",
              "      <td>13540.000000</td>\n",
              "      <td>1.074218e+06</td>\n",
              "      <td>3.500000</td>\n",
              "      <td>1.000000</td>\n",
              "      <td>4.000000</td>\n",
              "      <td>5.000000</td>\n",
              "      <td>...</td>\n",
              "      <td>2015.000000</td>\n",
              "      <td>2015.000000</td>\n",
              "      <td>122072.000000</td>\n",
              "      <td>53.007600</td>\n",
              "      <td>-113.505000</td>\n",
              "      <td>6110.000000</td>\n",
              "      <td>560617.000000</td>\n",
              "      <td>3.000000</td>\n",
              "      <td>80.000000</td>\n",
              "      <td>7.700000e+06</td>\n",
              "    </tr>\n",
              "  </tbody>\n",
              "</table>\n",
              "<p>8 rows × 23 columns</p>\n",
              "</div>"
            ],
            "text/plain": [
              "                 id          Date  number of bedrooms  number of bathrooms  \\\n",
              "count  1.462000e+04  14620.000000        14620.000000         14620.000000   \n",
              "mean   6.762821e+09  42604.538646            3.379343             2.129583   \n",
              "std    6.237575e+03     67.347991            0.938719             0.769934   \n",
              "min    6.762810e+09  42491.000000            1.000000             0.500000   \n",
              "25%    6.762815e+09  42546.000000            3.000000             1.750000   \n",
              "50%    6.762821e+09  42600.000000            3.000000             2.250000   \n",
              "75%    6.762826e+09  42662.000000            4.000000             2.500000   \n",
              "max    6.762832e+09  42734.000000           33.000000             8.000000   \n",
              "\n",
              "        living area      lot area  number of floors  waterfront present  \\\n",
              "count  14620.000000  1.462000e+04      14620.000000        14620.000000   \n",
              "mean    2098.262996  1.509328e+04          1.502360            0.007661   \n",
              "std      928.275721  3.791962e+04          0.540239            0.087193   \n",
              "min      370.000000  5.200000e+02          1.000000            0.000000   \n",
              "25%     1440.000000  5.010750e+03          1.000000            0.000000   \n",
              "50%     1930.000000  7.620000e+03          1.500000            0.000000   \n",
              "75%     2570.000000  1.080000e+04          2.000000            0.000000   \n",
              "max    13540.000000  1.074218e+06          3.500000            1.000000   \n",
              "\n",
              "       number of views  condition of the house  ...    Built Year  \\\n",
              "count     14620.000000            14620.000000  ...  14620.000000   \n",
              "mean          0.233105                3.430506  ...   1970.926402   \n",
              "std           0.766259                0.664151  ...     29.493625   \n",
              "min           0.000000                1.000000  ...   1900.000000   \n",
              "25%           0.000000                3.000000  ...   1951.000000   \n",
              "50%           0.000000                3.000000  ...   1975.000000   \n",
              "75%           0.000000                4.000000  ...   1997.000000   \n",
              "max           4.000000                5.000000  ...   2015.000000   \n",
              "\n",
              "       Renovation Year    Postal Code     Lattitude     Longitude  \\\n",
              "count     14620.000000   14620.000000  14620.000000  14620.000000   \n",
              "mean         90.924008  122033.062244     52.792848   -114.404007   \n",
              "std         416.216661      19.082418      0.137522      0.141326   \n",
              "min           0.000000  122003.000000     52.385900   -114.709000   \n",
              "25%           0.000000  122017.000000     52.707600   -114.519000   \n",
              "50%           0.000000  122032.000000     52.806400   -114.421000   \n",
              "75%           0.000000  122048.000000     52.908900   -114.315000   \n",
              "max        2015.000000  122072.000000     53.007600   -113.505000   \n",
              "\n",
              "       living_area_renov  lot_area_renov  Number of schools nearby  \\\n",
              "count       14620.000000    14620.000000              14620.000000   \n",
              "mean         1996.702257    12753.500068                  2.012244   \n",
              "std           691.093366    26058.414467                  0.817284   \n",
              "min           460.000000      651.000000                  1.000000   \n",
              "25%          1490.000000     5097.750000                  1.000000   \n",
              "50%          1850.000000     7620.000000                  2.000000   \n",
              "75%          2380.000000    10125.000000                  3.000000   \n",
              "max          6110.000000   560617.000000                  3.000000   \n",
              "\n",
              "       Distance from the airport         Price  \n",
              "count               14620.000000  1.462000e+04  \n",
              "mean                   64.950958  5.389322e+05  \n",
              "std                     8.936008  3.675324e+05  \n",
              "min                    50.000000  7.800000e+04  \n",
              "25%                    57.000000  3.200000e+05  \n",
              "50%                    65.000000  4.500000e+05  \n",
              "75%                    73.000000  6.450000e+05  \n",
              "max                    80.000000  7.700000e+06  \n",
              "\n",
              "[8 rows x 23 columns]"
            ]
          },
          "execution_count": 17,
          "metadata": {},
          "output_type": "execute_result"
        }
      ],
      "source": [
        "dt.describe()"
      ]
    },
    {
      "cell_type": "markdown",
      "id": "6389ac65",
      "metadata": {
        "id": "6389ac65"
      },
      "source": [
        "# Outliers"
      ]
    },
    {
      "cell_type": "code",
      "execution_count": null,
      "id": "24ec9193-9a83-4c56-8e86-362eaae39e8d",
      "metadata": {
        "id": "24ec9193-9a83-4c56-8e86-362eaae39e8d"
      },
      "outputs": [],
      "source": [
        "def plot_boxplot(dt,ft):\n",
        "    dt.boxplot(column=[ft])\n",
        "    plt.grid(False)\n",
        "    plt.show()\n"
      ]
    },
    {
      "cell_type": "code",
      "execution_count": null,
      "id": "b140bba0-575f-4f3a-9dfb-91c3677128f1",
      "metadata": {
        "id": "b140bba0-575f-4f3a-9dfb-91c3677128f1",
        "outputId": "c60d3c5c-ed3c-4e4e-9f71-dd754563216a"
      },
      "outputs": [
        {
          "data": {
            "image/png": "[encoded data removed]",
            "text/plain": [
              "<Figure size 640x480 with 1 Axes>"
            ]
          },
          "metadata": {},
          "output_type": "display_data"
        }
      ],
      "source": [
        "plot_boxplot(dt,\"Price\")"
      ]
    },
    {
      "cell_type": "code",
      "execution_count": null,
      "id": "14628486-4c2c-4742-a158-7673f8c9b8dc",
      "metadata": {
        "id": "14628486-4c2c-4742-a158-7673f8c9b8dc"
      },
      "outputs": [],
      "source": [
        "def outliers(dt,ft):\n",
        "    Q1=dt[ft].quantile(0.25)\n",
        "    Q3=dt[ft].quantile(0.75)\n",
        "    iqr=Q3-Q1\n",
        "    lower_bound=Q1-1.5*iqr\n",
        "    upper_bound=Q3+1.5*iqr\n",
        "    ls=dt.index[(dt[ft]<lower_bound)|(dt[ft]>upper_bound)]\n",
        "    return ls"
      ]
    },
    {
      "cell_type": "code",
      "execution_count": null,
      "id": "7aeaeff4-d5b7-4743-a87a-b9113244823f",
      "metadata": {
        "id": "7aeaeff4-d5b7-4743-a87a-b9113244823f"
      },
      "outputs": [],
      "source": [
        "index_list=[]\n",
        "for feature in ['Price']:\n",
        "    index_list.extend(outliers(dt,feature))"
      ]
    },
    {
      "cell_type": "code",
      "execution_count": null,
      "id": "d77157cf-f81d-4e1c-8469-549f41e53fcb",
      "metadata": {
        "id": "d77157cf-f81d-4e1c-8469-549f41e53fcb",
        "outputId": "4104e41a-45ca-4136-cbf8-bdfaed4f2c89"
      },
      "outputs": [
        {
          "data": {
            "text/plain": [
              "[0,\n",
              " 1,\n",
              " 2,\n",
              " 76,\n",
              " 77,\n",
              " 78,\n",
              " 160,\n",
              " 161,\n",
              " 162,\n",
              " 163,\n",
              " 164,\n",
              " 243,\n",
              " 244,\n",
              " 245,\n",
              " 246,\n",
              " 247,\n",
              " 336,\n",
              " 337,\n",
              " 338,\n",
              " 339,\n",
              " 417,\n",
              " 418,\n",
              " 419,\n",
              " 420,\n",
              " 421,\n",
              " 505,\n",
              " 506,\n",
              " 507,\n",
              " 508,\n",
              " 509,\n",
              " 510,\n",
              " 511,\n",
              " 512,\n",
              " 585,\n",
              " 586,\n",
              " 587,\n",
              " 588,\n",
              " 589,\n",
              " 590,\n",
              " 591,\n",
              " 671,\n",
              " 672,\n",
              " 673,\n",
              " 752,\n",
              " 753,\n",
              " 754,\n",
              " 834,\n",
              " 835,\n",
              " 915,\n",
              " 916,\n",
              " 917,\n",
              " 918,\n",
              " 919,\n",
              " 998,\n",
              " 999,\n",
              " 1000,\n",
              " 1001,\n",
              " 1002,\n",
              " 1003,\n",
              " 1114,\n",
              " 1115,\n",
              " 1116,\n",
              " 1117,\n",
              " 1118,\n",
              " 1119,\n",
              " 1208,\n",
              " 1209,\n",
              " 1210,\n",
              " 1211,\n",
              " 1212,\n",
              " 1299,\n",
              " 1300,\n",
              " 1301,\n",
              " 1383,\n",
              " 1384,\n",
              " 1407,\n",
              " 1408,\n",
              " 1409,\n",
              " 1410,\n",
              " 1411,\n",
              " 1412,\n",
              " 1413,\n",
              " 1511,\n",
              " 1512,\n",
              " 1513,\n",
              " 1514,\n",
              " 1515,\n",
              " 1516,\n",
              " 1517,\n",
              " 1622,\n",
              " 1623,\n",
              " 1624,\n",
              " 1625,\n",
              " 1626,\n",
              " 1697,\n",
              " 1698,\n",
              " 1699,\n",
              " 1700,\n",
              " 1701,\n",
              " 1702,\n",
              " 1768,\n",
              " 1769,\n",
              " 1775,\n",
              " 1776,\n",
              " 1853,\n",
              " 1957,\n",
              " 1958,\n",
              " 1959,\n",
              " 1960,\n",
              " 2057,\n",
              " 2058,\n",
              " 2059,\n",
              " 2060,\n",
              " 2150,\n",
              " 2151,\n",
              " 2152,\n",
              " 2153,\n",
              " 2154,\n",
              " 2221,\n",
              " 2231,\n",
              " 2232,\n",
              " 2233,\n",
              " 2234,\n",
              " 2235,\n",
              " 2236,\n",
              " 2326,\n",
              " 2327,\n",
              " 2328,\n",
              " 2329,\n",
              " 2330,\n",
              " 2424,\n",
              " 2425,\n",
              " 2426,\n",
              " 2427,\n",
              " 2514,\n",
              " 2515,\n",
              " 2516,\n",
              " 2517,\n",
              " 2518,\n",
              " 2519,\n",
              " 2520,\n",
              " 2603,\n",
              " 2604,\n",
              " 2605,\n",
              " 2690,\n",
              " 2697,\n",
              " 2698,\n",
              " 2699,\n",
              " 2794,\n",
              " 2795,\n",
              " 2796,\n",
              " 2797,\n",
              " 2798,\n",
              " 2799,\n",
              " 2800,\n",
              " 2801,\n",
              " 2802,\n",
              " 2803,\n",
              " 2907,\n",
              " 2908,\n",
              " 2909,\n",
              " 2910,\n",
              " 2911,\n",
              " 2912,\n",
              " 2913,\n",
              " 3006,\n",
              " 3007,\n",
              " 3008,\n",
              " 3009,\n",
              " 3010,\n",
              " 3011,\n",
              " 3012,\n",
              " 3013,\n",
              " 3107,\n",
              " 3108,\n",
              " 3109,\n",
              " 3110,\n",
              " 3111,\n",
              " 3112,\n",
              " 3113,\n",
              " 3114,\n",
              " 3115,\n",
              " 3116,\n",
              " 3234,\n",
              " 3235,\n",
              " 3236,\n",
              " 3237,\n",
              " 3238,\n",
              " 3239,\n",
              " 3240,\n",
              " 3376,\n",
              " 3377,\n",
              " 3378,\n",
              " 3379,\n",
              " 3380,\n",
              " 3381,\n",
              " 3495,\n",
              " 3496,\n",
              " 3497,\n",
              " 3498,\n",
              " 3499,\n",
              " 3500,\n",
              " 3501,\n",
              " 3502,\n",
              " 3503,\n",
              " 3626,\n",
              " 3627,\n",
              " 3628,\n",
              " 3629,\n",
              " 3630,\n",
              " 3631,\n",
              " 3632,\n",
              " 3757,\n",
              " 3758,\n",
              " 3759,\n",
              " 3849,\n",
              " 3869,\n",
              " 3870,\n",
              " 3871,\n",
              " 3872,\n",
              " 3873,\n",
              " 3874,\n",
              " 3875,\n",
              " 3876,\n",
              " 3946,\n",
              " 3947,\n",
              " 3948,\n",
              " 3949,\n",
              " 3950,\n",
              " 3951,\n",
              " 3952,\n",
              " 3953,\n",
              " 3954,\n",
              " 3955,\n",
              " 4061,\n",
              " 4062,\n",
              " 4063,\n",
              " 4064,\n",
              " 4065,\n",
              " 4066,\n",
              " 4151,\n",
              " 4152,\n",
              " 4153,\n",
              " 4154,\n",
              " 4155,\n",
              " 4156,\n",
              " 4157,\n",
              " 4227,\n",
              " 4228,\n",
              " 4233,\n",
              " 4236,\n",
              " 4237,\n",
              " 4238,\n",
              " 4239,\n",
              " 4240,\n",
              " 4319,\n",
              " 4320,\n",
              " 4321,\n",
              " 4322,\n",
              " 4323,\n",
              " 4324,\n",
              " 4325,\n",
              " 4326,\n",
              " 4446,\n",
              " 4447,\n",
              " 4448,\n",
              " 4449,\n",
              " 4450,\n",
              " 4451,\n",
              " 4452,\n",
              " 4567,\n",
              " 4568,\n",
              " 4569,\n",
              " 4570,\n",
              " 4571,\n",
              " 4572,\n",
              " 4657,\n",
              " 4658,\n",
              " 4659,\n",
              " 4660,\n",
              " 4751,\n",
              " 4752,\n",
              " 4753,\n",
              " 4754,\n",
              " 4755,\n",
              " 4756,\n",
              " 4757,\n",
              " 4758,\n",
              " 4867,\n",
              " 4868,\n",
              " 4869,\n",
              " 4870,\n",
              " 4969,\n",
              " 4970,\n",
              " 5080,\n",
              " 5081,\n",
              " 5166,\n",
              " 5167,\n",
              " 5271,\n",
              " 5279,\n",
              " 5280,\n",
              " 5281,\n",
              " 5282,\n",
              " 5376,\n",
              " 5481,\n",
              " 5482,\n",
              " 5483,\n",
              " 5484,\n",
              " 5588,\n",
              " 5589,\n",
              " 5682,\n",
              " 5683,\n",
              " 5684,\n",
              " 5685,\n",
              " 5686,\n",
              " 5687,\n",
              " 5688,\n",
              " 5689,\n",
              " 5690,\n",
              " 5691,\n",
              " 5793,\n",
              " 5794,\n",
              " 5795,\n",
              " 5796,\n",
              " 5887,\n",
              " 5888,\n",
              " 5889,\n",
              " 5890,\n",
              " 5891,\n",
              " 5892,\n",
              " 5999,\n",
              " 6000,\n",
              " 6001,\n",
              " 6002,\n",
              " 6003,\n",
              " 6004,\n",
              " 6005,\n",
              " 6006,\n",
              " 6074,\n",
              " 6075,\n",
              " 6076,\n",
              " 6077,\n",
              " 6078,\n",
              " 6079,\n",
              " 6080,\n",
              " 6157,\n",
              " 6158,\n",
              " 6159,\n",
              " 6160,\n",
              " 6161,\n",
              " 6162,\n",
              " 6238,\n",
              " 6244,\n",
              " 6245,\n",
              " 6246,\n",
              " 6335,\n",
              " 6336,\n",
              " 6337,\n",
              " 6338,\n",
              " 6339,\n",
              " 6340,\n",
              " 6444,\n",
              " 6445,\n",
              " 6446,\n",
              " 6529,\n",
              " 6530,\n",
              " 6531,\n",
              " 6591,\n",
              " 6592,\n",
              " 6593,\n",
              " 6594,\n",
              " 6595,\n",
              " 6596,\n",
              " 6674,\n",
              " 6675,\n",
              " 6676,\n",
              " 6677,\n",
              " 6678,\n",
              " 6679,\n",
              " 6781,\n",
              " 6782,\n",
              " 6783,\n",
              " 6784,\n",
              " 6881,\n",
              " 6882,\n",
              " 6977,\n",
              " 6978,\n",
              " 6979,\n",
              " 6980,\n",
              " 6981,\n",
              " 6982,\n",
              " 7069,\n",
              " 7070,\n",
              " 7071,\n",
              " 7072,\n",
              " 7137,\n",
              " 7138,\n",
              " 7221,\n",
              " 7222,\n",
              " 7223,\n",
              " 7224,\n",
              " 7314,\n",
              " 7315,\n",
              " 7316,\n",
              " 7317,\n",
              " 7428,\n",
              " 7429,\n",
              " 7430,\n",
              " 7515,\n",
              " 7516,\n",
              " 7517,\n",
              " 7518,\n",
              " 7519,\n",
              " 7618,\n",
              " 7627,\n",
              " 7628,\n",
              " 7629,\n",
              " 7630,\n",
              " 7736,\n",
              " 7737,\n",
              " 7738,\n",
              " 7739,\n",
              " 7853,\n",
              " 7854,\n",
              " 7855,\n",
              " 7856,\n",
              " 7955,\n",
              " 7956,\n",
              " 7957,\n",
              " 7958,\n",
              " 7959,\n",
              " 8033,\n",
              " 8034,\n",
              " 8035,\n",
              " 8036,\n",
              " 8100,\n",
              " 8101,\n",
              " 8102,\n",
              " 8180,\n",
              " 8181,\n",
              " 8182,\n",
              " 8183,\n",
              " 8265,\n",
              " 8266,\n",
              " 8267,\n",
              " 8344,\n",
              " 8345,\n",
              " 8346,\n",
              " 8437,\n",
              " 8511,\n",
              " 8512,\n",
              " 8513,\n",
              " 8514,\n",
              " 8515,\n",
              " 8605,\n",
              " 8606,\n",
              " 8607,\n",
              " 8691,\n",
              " 8692,\n",
              " 8693,\n",
              " 8694,\n",
              " 8695,\n",
              " 8696,\n",
              " 8697,\n",
              " 8698,\n",
              " 8699,\n",
              " 8700,\n",
              " 8701,\n",
              " 8779,\n",
              " 8780,\n",
              " 8848,\n",
              " 8849,\n",
              " 8850,\n",
              " 8851,\n",
              " 8925,\n",
              " 8926,\n",
              " 9018,\n",
              " 9019,\n",
              " 9020,\n",
              " 9092,\n",
              " 9093,\n",
              " 9171,\n",
              " 9252,\n",
              " 9257,\n",
              " 9258,\n",
              " 9259,\n",
              " 9260,\n",
              " 9348,\n",
              " 9349,\n",
              " 9350,\n",
              " 9351,\n",
              " 9352,\n",
              " 9353,\n",
              " 9451,\n",
              " 9452,\n",
              " 9453,\n",
              " 9454,\n",
              " 9550,\n",
              " 9551,\n",
              " 9629,\n",
              " 9630,\n",
              " 9631,\n",
              " 9632,\n",
              " 9633,\n",
              " 9719,\n",
              " 9727,\n",
              " 9728,\n",
              " 9729,\n",
              " 9730,\n",
              " 9731,\n",
              " 9732,\n",
              " 9733,\n",
              " 9810,\n",
              " 9865,\n",
              " 9866,\n",
              " 9867,\n",
              " 9868,\n",
              " 9869,\n",
              " 9870,\n",
              " 9871,\n",
              " 9872,\n",
              " 9873,\n",
              " 9874,\n",
              " 9951,\n",
              " 9952,\n",
              " 9953,\n",
              " 10024,\n",
              " 10025,\n",
              " 10026,\n",
              " 10027,\n",
              " 10098,\n",
              " 10099,\n",
              " 10100,\n",
              " 10101,\n",
              " 10167,\n",
              " 10168,\n",
              " 10169,\n",
              " 10170,\n",
              " 10171,\n",
              " 10172,\n",
              " 10258,\n",
              " 10259,\n",
              " 10260,\n",
              " 10333,\n",
              " 10334,\n",
              " 10335,\n",
              " 10336,\n",
              " 10337,\n",
              " 10338,\n",
              " 10412,\n",
              " 10413,\n",
              " 10414,\n",
              " 10415,\n",
              " 10498,\n",
              " 10503,\n",
              " 10504,\n",
              " 10505,\n",
              " 10506,\n",
              " 10507,\n",
              " 10566,\n",
              " 10567,\n",
              " 10568,\n",
              " 10569,\n",
              " 10570,\n",
              " 10655,\n",
              " 10656,\n",
              " 10657,\n",
              " 10658,\n",
              " 10659,\n",
              " 10660,\n",
              " 10661,\n",
              " 10741,\n",
              " 10742,\n",
              " 10831,\n",
              " 10832,\n",
              " 10833,\n",
              " 10905,\n",
              " 10915,\n",
              " 10916,\n",
              " 10917,\n",
              " 10999,\n",
              " 11000,\n",
              " 11001,\n",
              " 11002,\n",
              " 11003,\n",
              " 11004,\n",
              " 11089,\n",
              " 11090,\n",
              " 11091,\n",
              " 11092,\n",
              " 11093,\n",
              " 11169,\n",
              " 11170,\n",
              " 11171,\n",
              " 11244,\n",
              " 11311,\n",
              " 11312,\n",
              " 11407,\n",
              " 11408,\n",
              " 11409,\n",
              " 11410,\n",
              " 11411,\n",
              " 11412,\n",
              " 11524,\n",
              " 11525,\n",
              " 11526,\n",
              " 11527,\n",
              " 11528,\n",
              " 11616,\n",
              " 11617,\n",
              " 11618,\n",
              " 11619,\n",
              " 11620,\n",
              " 11621,\n",
              " 11701,\n",
              " 11702,\n",
              " 11703,\n",
              " 11741,\n",
              " 11747,\n",
              " 11892,\n",
              " 11893,\n",
              " 11969,\n",
              " 11970,\n",
              " 11971,\n",
              " 11972,\n",
              " 11973,\n",
              " 12047,\n",
              " 12048,\n",
              " 12049,\n",
              " 12050,\n",
              " 12121,\n",
              " 12129,\n",
              " 12130,\n",
              " 12131,\n",
              " 12132,\n",
              " 12133,\n",
              " 12134,\n",
              " 12135,\n",
              " 12136,\n",
              " 12210,\n",
              " 12211,\n",
              " 12260,\n",
              " 12261,\n",
              " 12262,\n",
              " 12263,\n",
              " 12342,\n",
              " 12343,\n",
              " 12344,\n",
              " 12345,\n",
              " 12346,\n",
              " 12442,\n",
              " 12443,\n",
              " 12444,\n",
              " 12516,\n",
              " 12517,\n",
              " 12518,\n",
              " 12599,\n",
              " 12600,\n",
              " 12601,\n",
              " 12686,\n",
              " 12687,\n",
              " 12768,\n",
              " 12769,\n",
              " 12770,\n",
              " 12771,\n",
              " 12772,\n",
              " 12854,\n",
              " 12855,\n",
              " 12856,\n",
              " 12857,\n",
              " 12936,\n",
              " 12947,\n",
              " 12948,\n",
              " 12949,\n",
              " 12950,\n",
              " 12951,\n",
              " 13026,\n",
              " 13027,\n",
              " 13028,\n",
              " 13029,\n",
              " 13030,\n",
              " 13097,\n",
              " 13098,\n",
              " 13099,\n",
              " 13100,\n",
              " 13101,\n",
              " 13150,\n",
              " 13151,\n",
              " 13152,\n",
              " 13153,\n",
              " 13154,\n",
              " 13155,\n",
              " 13156,\n",
              " 13157,\n",
              " 13246,\n",
              " 13343,\n",
              " 13344,\n",
              " 13345,\n",
              " 13346,\n",
              " 13347,\n",
              " 13423,\n",
              " 13424,\n",
              " 13489,\n",
              " 13490,\n",
              " 13491,\n",
              " 13492,\n",
              " 13493,\n",
              " 13557,\n",
              " 13558,\n",
              " 13559,\n",
              " 13560,\n",
              " 13631,\n",
              " 13632,\n",
              " 13633,\n",
              " 13634,\n",
              " 13635,\n",
              " 13636,\n",
              " 13637,\n",
              " 13638,\n",
              " 13639,\n",
              " 13709,\n",
              " 13710,\n",
              " 13784,\n",
              " 13785,\n",
              " 13861,\n",
              " 13862,\n",
              " 13863,\n",
              " 13864,\n",
              " 13865,\n",
              " 13929,\n",
              " 13937,\n",
              " 13938,\n",
              " 13939,\n",
              " 14016,\n",
              " 14017,\n",
              " 14018,\n",
              " 14085,\n",
              " 14086,\n",
              " 14087,\n",
              " 14149,\n",
              " 14150,\n",
              " 14216,\n",
              " 14217,\n",
              " 14218,\n",
              " 14258,\n",
              " 14268,\n",
              " 14335,\n",
              " 14336,\n",
              " 14337,\n",
              " 14397,\n",
              " 14428,\n",
              " 14468,\n",
              " 14469,\n",
              " 14470,\n",
              " 14532,\n",
              " 14533,\n",
              " 14534,\n",
              " 14535,\n",
              " 14536,\n",
              " 14537,\n",
              " 14575]"
            ]
          },
          "execution_count": 22,
          "metadata": {},
          "output_type": "execute_result"
        }
      ],
      "source": [
        "index_list"
      ]
    },
    {
      "cell_type": "code",
      "execution_count": null,
      "id": "53108d83-1581-4ab4-b020-2114cc29c642",
      "metadata": {
        "id": "53108d83-1581-4ab4-b020-2114cc29c642"
      },
      "outputs": [],
      "source": [
        "def remove(dt,ls):\n",
        "    ls=sorted(set(ls))\n",
        "    dt=dt.drop(ls)\n",
        "    return dt"
      ]
    },
    {
      "cell_type": "code",
      "execution_count": null,
      "id": "4ec05a52-f93a-49d8-86e2-6e93f211e6bd",
      "metadata": {
        "id": "4ec05a52-f93a-49d8-86e2-6e93f211e6bd"
      },
      "outputs": [],
      "source": [
        "dt_cleaned=remove(dt,index_list)"
      ]
    },
    {
      "cell_type": "code",
      "execution_count": null,
      "id": "b75118cc-6e95-45d3-8f07-d633382b8791",
      "metadata": {
        "id": "b75118cc-6e95-45d3-8f07-d633382b8791",
        "outputId": "13c3552f-c6c5-4a5f-a875-0af2fad71d18"
      },
      "outputs": [
        {
          "data": {
            "text/plain": [
              "(13859, 23)"
            ]
          },
          "execution_count": 25,
          "metadata": {},
          "output_type": "execute_result"
        }
      ],
      "source": [
        "dt_cleaned.shape"
      ]
    },
    {
      "cell_type": "code",
      "execution_count": null,
      "id": "8bd933ba-cd1c-4db3-be77-c947e3882287",
      "metadata": {
        "id": "8bd933ba-cd1c-4db3-be77-c947e3882287",
        "outputId": "ba21b585-ffd6-490b-a0df-9876f1d3a38c"
      },
      "outputs": [
        {
          "data": {
            "image/png": "[encoded data removed]",
            "text/plain": [
              "<Figure size 640x480 with 1 Axes>"
            ]
          },
          "metadata": {},
          "output_type": "display_data"
        }
      ],
      "source": [
        "plot_boxplot(dt_cleaned,'Price')"
      ]
    },
    {
      "cell_type": "markdown",
      "id": "20f67e53",
      "metadata": {
        "id": "20f67e53"
      },
      "source": [
        "# Train and Test"
      ]
    },
    {
      "cell_type": "code",
      "execution_count": null,
      "id": "c033a1ef-9608-491a-bb91-692dfbcc6b1c",
      "metadata": {
        "id": "c033a1ef-9608-491a-bb91-692dfbcc6b1c",
        "outputId": "f147ce58-cdc2-4b73-ffe3-176723b82b36"
      },
      "outputs": [
        {
          "data": {
            "text/plain": [
              "<matplotlib.collections.PathCollection at 0x11127240c40>"
            ]
          },
          "execution_count": 27,
          "metadata": {},
          "output_type": "execute_result"
        },
        {
          "data": {
            "image/png": "[encoded data removed]",
            "text/plain": [
              "<Figure size 640x480 with 1 Axes>"
            ]
          },
          "metadata": {},
          "output_type": "display_data"
        }
      ],
      "source": [
        "plot.scatter(dt['number of bedrooms'],dt['number of bathrooms'])"
      ]
    },
    {
      "cell_type": "code",
      "execution_count": null,
      "id": "af7be4e8",
      "metadata": {
        "id": "af7be4e8"
      },
      "outputs": [],
      "source": [
        "x=dt[['number of bedrooms','Price']]\n",
        "y=dt['number of bathrooms']"
      ]
    },
    {
      "cell_type": "code",
      "execution_count": null,
      "id": "eec86232",
      "metadata": {
        "id": "eec86232",
        "outputId": "e8d376e4-b9ba-489d-b460-77577c9fdbfc"
      },
      "outputs": [
        {
          "data": {
            "text/html": [
              "<div>\n",
              "<style scoped>\n",
              "    .dataframe tbody tr th:only-of-type {\n",
              "        vertical-align: middle;\n",
              "    }\n",
              "\n",
              "    .dataframe tbody tr th {\n",
              "        vertical-align: top;\n",
              "    }\n",
              "\n",
              "    .dataframe thead th {\n",
              "        text-align: right;\n",
              "    }\n",
              "</style>\n",
              "<table border=\"1\" class=\"dataframe\">\n",
              "  <thead>\n",
              "    <tr style=\"text-align: right;\">\n",
              "      <th></th>\n",
              "      <th>number of bedrooms</th>\n",
              "      <th>Price</th>\n",
              "    </tr>\n",
              "  </thead>\n",
              "  <tbody>\n",
              "    <tr>\n",
              "      <th>0</th>\n",
              "      <td>5</td>\n",
              "      <td>2380000</td>\n",
              "    </tr>\n",
              "    <tr>\n",
              "      <th>1</th>\n",
              "      <td>4</td>\n",
              "      <td>1400000</td>\n",
              "    </tr>\n",
              "    <tr>\n",
              "      <th>2</th>\n",
              "      <td>5</td>\n",
              "      <td>1200000</td>\n",
              "    </tr>\n",
              "    <tr>\n",
              "      <th>3</th>\n",
              "      <td>4</td>\n",
              "      <td>838000</td>\n",
              "    </tr>\n",
              "    <tr>\n",
              "      <th>4</th>\n",
              "      <td>3</td>\n",
              "      <td>805000</td>\n",
              "    </tr>\n",
              "    <tr>\n",
              "      <th>...</th>\n",
              "      <td>...</td>\n",
              "      <td>...</td>\n",
              "    </tr>\n",
              "    <tr>\n",
              "      <th>14615</th>\n",
              "      <td>2</td>\n",
              "      <td>221700</td>\n",
              "    </tr>\n",
              "    <tr>\n",
              "      <th>14616</th>\n",
              "      <td>3</td>\n",
              "      <td>219200</td>\n",
              "    </tr>\n",
              "    <tr>\n",
              "      <th>14617</th>\n",
              "      <td>2</td>\n",
              "      <td>209000</td>\n",
              "    </tr>\n",
              "    <tr>\n",
              "      <th>14618</th>\n",
              "      <td>4</td>\n",
              "      <td>205000</td>\n",
              "    </tr>\n",
              "    <tr>\n",
              "      <th>14619</th>\n",
              "      <td>3</td>\n",
              "      <td>146000</td>\n",
              "    </tr>\n",
              "  </tbody>\n",
              "</table>\n",
              "<p>14620 rows × 2 columns</p>\n",
              "</div>"
            ],
            "text/plain": [
              "       number of bedrooms    Price\n",
              "0                       5  2380000\n",
              "1                       4  1400000\n",
              "2                       5  1200000\n",
              "3                       4   838000\n",
              "4                       3   805000\n",
              "...                   ...      ...\n",
              "14615                   2   221700\n",
              "14616                   3   219200\n",
              "14617                   2   209000\n",
              "14618                   4   205000\n",
              "14619                   3   146000\n",
              "\n",
              "[14620 rows x 2 columns]"
            ]
          },
          "execution_count": 29,
          "metadata": {},
          "output_type": "execute_result"
        }
      ],
      "source": [
        "x"
      ]
    },
    {
      "cell_type": "code",
      "execution_count": null,
      "id": "98bb247a",
      "metadata": {
        "id": "98bb247a"
      },
      "outputs": [],
      "source": [
        "from sklearn.model_selection import train_test_split"
      ]
    },
    {
      "cell_type": "code",
      "execution_count": null,
      "id": "e5e7b7be",
      "metadata": {
        "id": "e5e7b7be"
      },
      "outputs": [],
      "source": [
        "x_train,x_test,y_train,y_test=train_test_split(x,y,test_size=0.2,random_state=10)"
      ]
    },
    {
      "cell_type": "code",
      "execution_count": null,
      "id": "84ea6d0f",
      "metadata": {
        "id": "84ea6d0f",
        "outputId": "8cd005f6-f0b1-4947-ab3e-127bb4cc1df7"
      },
      "outputs": [
        {
          "data": {
            "text/plain": [
              "11696"
            ]
          },
          "execution_count": 32,
          "metadata": {},
          "output_type": "execute_result"
        }
      ],
      "source": [
        "len(x_train)"
      ]
    },
    {
      "cell_type": "code",
      "execution_count": null,
      "id": "75322443",
      "metadata": {
        "id": "75322443",
        "outputId": "59fa1620-b18f-4d77-8cd9-0622d15941e0"
      },
      "outputs": [
        {
          "data": {
            "text/html": [
              "<div>\n",
              "<style scoped>\n",
              "    .dataframe tbody tr th:only-of-type {\n",
              "        vertical-align: middle;\n",
              "    }\n",
              "\n",
              "    .dataframe tbody tr th {\n",
              "        vertical-align: top;\n",
              "    }\n",
              "\n",
              "    .dataframe thead th {\n",
              "        text-align: right;\n",
              "    }\n",
              "</style>\n",
              "<table border=\"1\" class=\"dataframe\">\n",
              "  <thead>\n",
              "    <tr style=\"text-align: right;\">\n",
              "      <th></th>\n",
              "      <th>number of bedrooms</th>\n",
              "      <th>Price</th>\n",
              "    </tr>\n",
              "  </thead>\n",
              "  <tbody>\n",
              "    <tr>\n",
              "      <th>199</th>\n",
              "      <td>3</td>\n",
              "      <td>485000</td>\n",
              "    </tr>\n",
              "    <tr>\n",
              "      <th>2822</th>\n",
              "      <td>4</td>\n",
              "      <td>720000</td>\n",
              "    </tr>\n",
              "    <tr>\n",
              "      <th>4202</th>\n",
              "      <td>2</td>\n",
              "      <td>370000</td>\n",
              "    </tr>\n",
              "    <tr>\n",
              "      <th>4067</th>\n",
              "      <td>3</td>\n",
              "      <td>1080000</td>\n",
              "    </tr>\n",
              "    <tr>\n",
              "      <th>7798</th>\n",
              "      <td>3</td>\n",
              "      <td>417000</td>\n",
              "    </tr>\n",
              "    <tr>\n",
              "      <th>...</th>\n",
              "      <td>...</td>\n",
              "      <td>...</td>\n",
              "    </tr>\n",
              "    <tr>\n",
              "      <th>11633</th>\n",
              "      <td>3</td>\n",
              "      <td>759000</td>\n",
              "    </tr>\n",
              "    <tr>\n",
              "      <th>1344</th>\n",
              "      <td>3</td>\n",
              "      <td>449950</td>\n",
              "    </tr>\n",
              "    <tr>\n",
              "      <th>12815</th>\n",
              "      <td>3</td>\n",
              "      <td>385000</td>\n",
              "    </tr>\n",
              "    <tr>\n",
              "      <th>7293</th>\n",
              "      <td>2</td>\n",
              "      <td>307300</td>\n",
              "    </tr>\n",
              "    <tr>\n",
              "      <th>1289</th>\n",
              "      <td>4</td>\n",
              "      <td>245000</td>\n",
              "    </tr>\n",
              "  </tbody>\n",
              "</table>\n",
              "<p>11696 rows × 2 columns</p>\n",
              "</div>"
            ],
            "text/plain": [
              "       number of bedrooms    Price\n",
              "199                     3   485000\n",
              "2822                    4   720000\n",
              "4202                    2   370000\n",
              "4067                    3  1080000\n",
              "7798                    3   417000\n",
              "...                   ...      ...\n",
              "11633                   3   759000\n",
              "1344                    3   449950\n",
              "12815                   3   385000\n",
              "7293                    2   307300\n",
              "1289                    4   245000\n",
              "\n",
              "[11696 rows x 2 columns]"
            ]
          },
          "execution_count": 33,
          "metadata": {},
          "output_type": "execute_result"
        }
      ],
      "source": [
        "x_train"
      ]
    },
    {
      "cell_type": "code",
      "execution_count": null,
      "id": "21c3a20b",
      "metadata": {
        "id": "21c3a20b",
        "outputId": "8a8fd35b-b814-4350-a925-2cf6c6325317"
      },
      "outputs": [
        {
          "data": {
            "text/plain": [
              "2924"
            ]
          },
          "execution_count": 34,
          "metadata": {},
          "output_type": "execute_result"
        }
      ],
      "source": [
        "len(x_test)"
      ]
    },
    {
      "cell_type": "code",
      "execution_count": null,
      "id": "9e1d3e82",
      "metadata": {
        "id": "9e1d3e82"
      },
      "outputs": [],
      "source": [
        "from sklearn.linear_model import LinearRegression\n",
        "clf=LinearRegression()"
      ]
    },
    {
      "cell_type": "code",
      "execution_count": null,
      "id": "430cfb08",
      "metadata": {
        "id": "430cfb08",
        "outputId": "2a35f77c-b858-4566-a1a2-ff48b7465375"
      },
      "outputs": [
        {
          "data": {
            "text/html": [
              "<style>#sk-container-id-1 {color: black;background-color: white;}#sk-container-id-1 pre{padding: 0;}#sk-container-id-1 div.sk-toggleable {background-color: white;}#sk-container-id-1 label.sk-toggleable__label {cursor: pointer;display: block;width: 100%;margin-bottom: 0;padding: 0.3em;box-sizing: border-box;text-align: center;}#sk-container-id-1 label.sk-toggleable__label-arrow:before {content: \"▸\";float: left;margin-right: 0.25em;color: #696969;}#sk-container-id-1 label.sk-toggleable__label-arrow:hover:before {color: black;}#sk-container-id-1 div.sk-estimator:hover label.sk-toggleable__label-arrow:before {color: black;}#sk-container-id-1 div.sk-toggleable__content {max-height: 0;max-width: 0;overflow: hidden;text-align: left;background-color: #f0f8ff;}#sk-container-id-1 div.sk-toggleable__content pre {margin: 0.2em;color: black;border-radius: 0.25em;background-color: #f0f8ff;}#sk-container-id-1 input.sk-toggleable__control:checked~div.sk-toggleable__content {max-height: 200px;max-width: 100%;overflow: auto;}#sk-container-id-1 input.sk-toggleable__control:checked~label.sk-toggleable__label-arrow:before {content: \"▾\";}#sk-container-id-1 div.sk-estimator input.sk-toggleable__control:checked~label.sk-toggleable__label {background-color: #d4ebff;}#sk-container-id-1 div.sk-label input.sk-toggleable__control:checked~label.sk-toggleable__label {background-color: #d4ebff;}#sk-container-id-1 input.sk-hidden--visually {border: 0;clip: rect(1px 1px 1px 1px);clip: rect(1px, 1px, 1px, 1px);height: 1px;margin: -1px;overflow: hidden;padding: 0;position: absolute;width: 1px;}#sk-container-id-1 div.sk-estimator {font-family: monospace;background-color: #f0f8ff;border: 1px dotted black;border-radius: 0.25em;box-sizing: border-box;margin-bottom: 0.5em;}#sk-container-id-1 div.sk-estimator:hover {background-color: #d4ebff;}#sk-container-id-1 div.sk-parallel-item::after {content: \"\";width: 100%;border-bottom: 1px solid gray;flex-grow: 1;}#sk-container-id-1 div.sk-label:hover label.sk-toggleable__label {background-color: #d4ebff;}#sk-container-id-1 div.sk-serial::before {content: \"\";position: absolute;border-left: 1px solid gray;box-sizing: border-box;top: 0;bottom: 0;left: 50%;z-index: 0;}#sk-container-id-1 div.sk-serial {display: flex;flex-direction: column;align-items: center;background-color: white;padding-right: 0.2em;padding-left: 0.2em;position: relative;}#sk-container-id-1 div.sk-item {position: relative;z-index: 1;}#sk-container-id-1 div.sk-parallel {display: flex;align-items: stretch;justify-content: center;background-color: white;position: relative;}#sk-container-id-1 div.sk-item::before, #sk-container-id-1 div.sk-parallel-item::before {content: \"\";position: absolute;border-left: 1px solid gray;box-sizing: border-box;top: 0;bottom: 0;left: 50%;z-index: -1;}#sk-container-id-1 div.sk-parallel-item {display: flex;flex-direction: column;z-index: 1;position: relative;background-color: white;}#sk-container-id-1 div.sk-parallel-item:first-child::after {align-self: flex-end;width: 50%;}#sk-container-id-1 div.sk-parallel-item:last-child::after {align-self: flex-start;width: 50%;}#sk-container-id-1 div.sk-parallel-item:only-child::after {width: 0;}#sk-container-id-1 div.sk-dashed-wrapped {border: 1px dashed gray;margin: 0 0.4em 0.5em 0.4em;box-sizing: border-box;padding-bottom: 0.4em;background-color: white;}#sk-container-id-1 div.sk-label label {font-family: monospace;font-weight: bold;display: inline-block;line-height: 1.2em;}#sk-container-id-1 div.sk-label-container {text-align: center;}#sk-container-id-1 div.sk-container {/* jupyter's `normalize.less` sets `[hidden] { display: none; }` but bootstrap.min.css set `[hidden] { display: none !important; }` so we also need the `!important` here to be able to override the default hidden behavior on the sphinx rendered scikit-learn.org. See: https://github.com/scikit-learn/scikit-learn/issues/21755 */display: inline-block !important;position: relative;}#sk-container-id-1 div.sk-text-repr-fallback {display: none;}</style><div id=\"sk-container-id-1\" class=\"sk-top-container\"><div class=\"sk-text-repr-fallback\"><pre>LinearRegression()</pre><b>In a Jupyter environment, please rerun this cell to show the HTML representation or trust the notebook. <br />On GitHub, the HTML representation is unable to render, please try loading this page with nbviewer.org.</b></div><div class=\"sk-container\" hidden><div class=\"sk-item\"><div class=\"sk-estimator sk-toggleable\"><input class=\"sk-toggleable__control sk-hidden--visually\" id=\"sk-estimator-id-1\" type=\"checkbox\" checked><label for=\"sk-estimator-id-1\" class=\"sk-toggleable__label sk-toggleable__label-arrow\">LinearRegression</label><div class=\"sk-toggleable__content\"><pre>LinearRegression()</pre></div></div></div></div></div>"
            ],
            "text/plain": [
              "LinearRegression()"
            ]
          },
          "execution_count": 36,
          "metadata": {},
          "output_type": "execute_result"
        }
      ],
      "source": [
        "clf.fit(x_train,y_train)"
      ]
    },
    {
      "cell_type": "code",
      "execution_count": null,
      "id": "8b02ba4f",
      "metadata": {
        "id": "8b02ba4f",
        "outputId": "37c5eb52-73d9-464d-ce00-4d557149c38e"
      },
      "outputs": [
        {
          "data": {
            "text/plain": [
              "array([1.91988517, 2.28509357, 1.78180284, ..., 1.51316577, 2.88065992,\n",
              "       1.87587142])"
            ]
          },
          "execution_count": 37,
          "metadata": {},
          "output_type": "execute_result"
        }
      ],
      "source": [
        "clf.predict(x_test)"
      ]
    },
    {
      "cell_type": "code",
      "execution_count": null,
      "id": "4c272c7b",
      "metadata": {
        "id": "4c272c7b",
        "outputId": "1d973ec9-1bef-49d3-a09a-9cfe106730b3"
      },
      "outputs": [
        {
          "data": {
            "text/plain": [
              "13975    1.00\n",
              "5630     3.00\n",
              "11509    2.00\n",
              "8889     1.75\n",
              "5663     1.75\n",
              "         ... \n",
              "10543    1.75\n",
              "2816     2.50\n",
              "11498    1.00\n",
              "919      3.00\n",
              "9221     2.50\n",
              "Name: number of bathrooms, Length: 2924, dtype: float64"
            ]
          },
          "execution_count": 38,
          "metadata": {},
          "output_type": "execute_result"
        }
      ],
      "source": [
        "y_test"
      ]
    },
    {
      "cell_type": "code",
      "execution_count": null,
      "id": "3f7e4e40",
      "metadata": {
        "id": "3f7e4e40"
      },
      "outputs": [],
      "source": [
        "from sklearn.model_selection import train_test_split"
      ]
    },
    {
      "cell_type": "code",
      "execution_count": null,
      "id": "22161585",
      "metadata": {
        "id": "22161585"
      },
      "outputs": [],
      "source": [
        "x_train,x_test,y_train,y_test=train_test_split(x,y,test_size=0.3)"
      ]
    },
    {
      "cell_type": "code",
      "execution_count": null,
      "id": "2cdb6a64",
      "metadata": {
        "id": "2cdb6a64",
        "outputId": "b014bbce-2160-4bf2-8ba5-0f3b5c63b8ca"
      },
      "outputs": [
        {
          "data": {
            "text/html": [
              "<div>\n",
              "<style scoped>\n",
              "    .dataframe tbody tr th:only-of-type {\n",
              "        vertical-align: middle;\n",
              "    }\n",
              "\n",
              "    .dataframe tbody tr th {\n",
              "        vertical-align: top;\n",
              "    }\n",
              "\n",
              "    .dataframe thead th {\n",
              "        text-align: right;\n",
              "    }\n",
              "</style>\n",
              "<table border=\"1\" class=\"dataframe\">\n",
              "  <thead>\n",
              "    <tr style=\"text-align: right;\">\n",
              "      <th></th>\n",
              "      <th>number of bedrooms</th>\n",
              "      <th>Price</th>\n",
              "    </tr>\n",
              "  </thead>\n",
              "  <tbody>\n",
              "    <tr>\n",
              "      <th>14310</th>\n",
              "      <td>4</td>\n",
              "      <td>332500</td>\n",
              "    </tr>\n",
              "    <tr>\n",
              "      <th>750</th>\n",
              "      <td>2</td>\n",
              "      <td>155000</td>\n",
              "    </tr>\n",
              "    <tr>\n",
              "      <th>5071</th>\n",
              "      <td>2</td>\n",
              "      <td>228000</td>\n",
              "    </tr>\n",
              "    <tr>\n",
              "      <th>13657</th>\n",
              "      <td>3</td>\n",
              "      <td>589950</td>\n",
              "    </tr>\n",
              "    <tr>\n",
              "      <th>8758</th>\n",
              "      <td>2</td>\n",
              "      <td>390000</td>\n",
              "    </tr>\n",
              "    <tr>\n",
              "      <th>...</th>\n",
              "      <td>...</td>\n",
              "      <td>...</td>\n",
              "    </tr>\n",
              "    <tr>\n",
              "      <th>8311</th>\n",
              "      <td>3</td>\n",
              "      <td>422500</td>\n",
              "    </tr>\n",
              "    <tr>\n",
              "      <th>14326</th>\n",
              "      <td>3</td>\n",
              "      <td>260000</td>\n",
              "    </tr>\n",
              "    <tr>\n",
              "      <th>4214</th>\n",
              "      <td>4</td>\n",
              "      <td>280500</td>\n",
              "    </tr>\n",
              "    <tr>\n",
              "      <th>3834</th>\n",
              "      <td>3</td>\n",
              "      <td>246950</td>\n",
              "    </tr>\n",
              "    <tr>\n",
              "      <th>7148</th>\n",
              "      <td>4</td>\n",
              "      <td>649000</td>\n",
              "    </tr>\n",
              "  </tbody>\n",
              "</table>\n",
              "<p>10234 rows × 2 columns</p>\n",
              "</div>"
            ],
            "text/plain": [
              "       number of bedrooms   Price\n",
              "14310                   4  332500\n",
              "750                     2  155000\n",
              "5071                    2  228000\n",
              "13657                   3  589950\n",
              "8758                    2  390000\n",
              "...                   ...     ...\n",
              "8311                    3  422500\n",
              "14326                   3  260000\n",
              "4214                    4  280500\n",
              "3834                    3  246950\n",
              "7148                    4  649000\n",
              "\n",
              "[10234 rows x 2 columns]"
            ]
          },
          "execution_count": 41,
          "metadata": {},
          "output_type": "execute_result"
        }
      ],
      "source": [
        "x_train"
      ]
    },
    {
      "cell_type": "markdown",
      "id": "4089e51f",
      "metadata": {
        "id": "4089e51f"
      },
      "source": [
        "# Descriptive Statistics"
      ]
    },
    {
      "cell_type": "code",
      "execution_count": null,
      "id": "b481c545",
      "metadata": {
        "id": "b481c545",
        "outputId": "484abed1-af73-41f5-c34d-48c6c0f922fa"
      },
      "outputs": [
        {
          "name": "stdout",
          "output_type": "stream",
          "text": [
            "60.8\n"
          ]
        }
      ],
      "source": [
        "data1=[70,60,1,80,93]\n",
        "sumOfList=sum(data1)\n",
        "lenOfList=len(data1)\n",
        "avg=sumOfList/lenOfList\n",
        "print(avg)"
      ]
    },
    {
      "cell_type": "code",
      "execution_count": null,
      "id": "90681e7a",
      "metadata": {
        "id": "90681e7a",
        "outputId": "0a722258-39d5-4fac-a409-03274ff61164"
      },
      "outputs": [
        {
          "data": {
            "text/plain": [
              "60.8"
            ]
          },
          "execution_count": 43,
          "metadata": {},
          "output_type": "execute_result"
        }
      ],
      "source": [
        "import statistics\n",
        "statistics.mean(data1)"
      ]
    },
    {
      "cell_type": "code",
      "execution_count": null,
      "id": "03019983",
      "metadata": {
        "id": "03019983",
        "outputId": "3a78fa1d-d6a7-4815-df26-0d5e92a5419e"
      },
      "outputs": [
        {
          "data": {
            "text/plain": [
              "120.4"
            ]
          },
          "execution_count": 44,
          "metadata": {},
          "output_type": "execute_result"
        }
      ],
      "source": [
        "data2=[70,60,300,80,92]\n",
        "statistics.mean(data2)"
      ]
    },
    {
      "cell_type": "code",
      "execution_count": null,
      "id": "f6fe6d83",
      "metadata": {
        "id": "f6fe6d83",
        "outputId": "fe18ccb0-d4e6-49b6-aa31-254f6c9c539b"
      },
      "outputs": [
        {
          "data": {
            "text/plain": [
              "87"
            ]
          },
          "execution_count": 45,
          "metadata": {},
          "output_type": "execute_result"
        }
      ],
      "source": [
        "odd_set=[30,45,67,87,94,102,124]\n",
        "statistics.median(odd_set)"
      ]
    },
    {
      "cell_type": "code",
      "execution_count": null,
      "id": "4f672e4c",
      "metadata": {
        "id": "4f672e4c",
        "outputId": "7acf939b-a9ca-4895-ee7e-715965421c7d"
      },
      "outputs": [
        {
          "data": {
            "text/plain": [
              "90.5"
            ]
          },
          "execution_count": 47,
          "metadata": {},
          "output_type": "execute_result"
        }
      ],
      "source": [
        "even_set=[30,45,67,87,94,102,124,180]\n",
        "statistics.median(even_set)"
      ]
    },
    {
      "cell_type": "code",
      "execution_count": null,
      "id": "1921b08d",
      "metadata": {
        "id": "1921b08d",
        "outputId": "05505515-ca7c-4033-b423-571c5eeb6d76"
      },
      "outputs": [
        {
          "data": {
            "text/plain": [
              "70"
            ]
          },
          "execution_count": 48,
          "metadata": {},
          "output_type": "execute_result"
        }
      ],
      "source": [
        "statistics.median(data1)"
      ]
    },
    {
      "cell_type": "code",
      "execution_count": null,
      "id": "866545cb",
      "metadata": {
        "id": "866545cb",
        "outputId": "d2863010-9806-4a11-b00d-f1ee3edbcf7e"
      },
      "outputs": [
        {
          "data": {
            "text/plain": [
              "80"
            ]
          },
          "execution_count": 49,
          "metadata": {},
          "output_type": "execute_result"
        }
      ],
      "source": [
        "statistics.median(data2)"
      ]
    },
    {
      "cell_type": "code",
      "execution_count": null,
      "id": "a53439ea",
      "metadata": {
        "id": "a53439ea",
        "outputId": "9fc34497-3fee-41b0-a1ad-239e24020782"
      },
      "outputs": [
        {
          "name": "stdout",
          "output_type": "stream",
          "text": [
            "538932.2183310534\n"
          ]
        }
      ],
      "source": [
        "average=dt['Price'].mean()\n",
        "print(average)"
      ]
    },
    {
      "cell_type": "code",
      "execution_count": null,
      "id": "45774c86",
      "metadata": {
        "id": "45774c86",
        "outputId": "f121eee4-b442-427a-de53-cdbd416ae57b"
      },
      "outputs": [
        {
          "name": "stdout",
          "output_type": "stream",
          "text": [
            "450000.0\n"
          ]
        }
      ],
      "source": [
        "med=dt['Price'].median()\n",
        "print(med)"
      ]
    },
    {
      "cell_type": "code",
      "execution_count": null,
      "id": "8cd1a6f7",
      "metadata": {
        "id": "8cd1a6f7"
      },
      "outputs": [],
      "source": [
        "sample_dataset_1=[100,200,300,400,500]\n",
        "sample_dataset_2=[1,2,300,499,698]"
      ]
    },
    {
      "cell_type": "code",
      "execution_count": null,
      "id": "2daf8ea1",
      "metadata": {
        "id": "2daf8ea1",
        "outputId": "735de06d-d8bc-4829-eaba-dbd38c40384f"
      },
      "outputs": [
        {
          "name": "stdout",
          "output_type": "stream",
          "text": [
            "column    158.113883\n",
            "dtype: float64\n"
          ]
        }
      ],
      "source": [
        "sample_dataset_1=[100,200,300,400,500]\n",
        "dt1=pd.DataFrame(sample_dataset_1,columns=['column'])\n",
        "sd=dt1.std()\n",
        "print(sd)"
      ]
    },
    {
      "cell_type": "code",
      "execution_count": null,
      "id": "4b7b9bf3",
      "metadata": {
        "id": "4b7b9bf3",
        "outputId": "25862133-354a-47c8-d180-ef3965c14f4e"
      },
      "outputs": [
        {
          "name": "stdout",
          "output_type": "stream",
          "text": [
            "   column\n",
            "0       1\n",
            "1       2\n",
            "2     300\n",
            "3     499\n",
            "4     698\n",
            "column    306.6798\n",
            "dtype: float64\n"
          ]
        }
      ],
      "source": [
        "sample_dataset_2=[1,2,300,499,698]\n",
        "dt2=pd.DataFrame(sample_dataset_2,columns=['column'])\n",
        "print(dt2)\n",
        "sd=dt2.std()\n",
        "print(sd)"
      ]
    },
    {
      "cell_type": "code",
      "execution_count": null,
      "id": "42548324",
      "metadata": {
        "id": "42548324",
        "outputId": "872c0617-3caf-499c-dc6b-38d41aca9b22"
      },
      "outputs": [
        {
          "name": "stdout",
          "output_type": "stream",
          "text": [
            "367532.3808039669\n"
          ]
        }
      ],
      "source": [
        "sd=dt['Price'].std()\n",
        "print(sd)"
      ]
    },
    {
      "cell_type": "code",
      "execution_count": null,
      "id": "9bb91195",
      "metadata": {
        "id": "9bb91195"
      },
      "outputs": [],
      "source": [
        "filter_data=dt.dropna(subset=['Price'])"
      ]
    },
    {
      "cell_type": "code",
      "execution_count": null,
      "id": "99137adb",
      "metadata": {
        "id": "99137adb",
        "outputId": "20cc407e-c40a-4b08-c31e-31b430e146fb"
      },
      "outputs": [
        {
          "name": "stderr",
          "output_type": "stream",
          "text": [
            "C:\\Users\\ANGELINE\\AppData\\Local\\Temp\\ipykernel_6848\\2113616560.py:2: UserWarning: \n",
            "\n",
            "`distplot` is a deprecated function and will be removed in seaborn v0.14.0.\n",
            "\n",
            "Please adapt your code to use either `displot` (a figure-level function with\n",
            "similar flexibility) or `histplot` (an axes-level function for histograms).\n",
            "\n",
            "For a guide to updating your code to use the new functions, please see\n",
            "https://gist.github.com/mwaskom/de44147ed2974457ad6372750bbe5751\n",
            "\n",
            "  sns.distplot(filter_data['Price'],kde=False)\n"
          ]
        },
        {
          "data": {
            "text/plain": [
              "<Axes: xlabel='Price'>"
            ]
          },
          "execution_count": 61,
          "metadata": {},
          "output_type": "execute_result"
        },
        {
          "data": {
            "image/png": "[encoded data removed]",
            "text/plain": [
              "<Figure size 1400x800 with 1 Axes>"
            ]
          },
          "metadata": {},
          "output_type": "display_data"
        }
      ],
      "source": [
        "plt.figure(figsize=(14,8))\n",
        "sns.distplot(filter_data['Price'],kde=False)"
      ]
    },
    {
      "cell_type": "code",
      "execution_count": null,
      "id": "c5db8121",
      "metadata": {
        "id": "c5db8121",
        "outputId": "e359dc90-7b70-487a-a2d3-e647e116e2d8"
      },
      "outputs": [
        {
          "name": "stderr",
          "output_type": "stream",
          "text": [
            "C:\\Users\\ANGELINE\\AppData\\Local\\Temp\\ipykernel_6848\\4203512104.py:2: UserWarning: \n",
            "\n",
            "`distplot` is a deprecated function and will be removed in seaborn v0.14.0.\n",
            "\n",
            "Please adapt your code to use either `displot` (a figure-level function with\n",
            "similar flexibility) or `histplot` (an axes-level function for histograms).\n",
            "\n",
            "For a guide to updating your code to use the new functions, please see\n",
            "https://gist.github.com/mwaskom/de44147ed2974457ad6372750bbe5751\n",
            "\n",
            "  sns.distplot(filter_data['Price'])\n"
          ]
        },
        {
          "data": {
            "text/plain": [
              "<Axes: xlabel='Price', ylabel='Density'>"
            ]
          },
          "execution_count": 62,
          "metadata": {},
          "output_type": "execute_result"
        },
        {
          "data": {
            "image/png": "[encoded data removed]",
            "text/plain": [
              "<Figure size 1400x800 with 1 Axes>"
            ]
          },
          "metadata": {},
          "output_type": "display_data"
        }
      ],
      "source": [
        "plt.figure(figsize=(14,8))\n",
        "sns.distplot(filter_data['Price'])"
      ]
    },
    {
      "cell_type": "code",
      "execution_count": null,
      "id": "fe19f1fe",
      "metadata": {
        "id": "fe19f1fe",
        "outputId": "4b0b3648-585d-4e25-bb3c-7ea9c96c9f6d"
      },
      "outputs": [
        {
          "data": {
            "text/plain": [
              "450000    114\n",
              "350000    113\n",
              "400000    104\n",
              "375000    103\n",
              "550000    102\n",
              "         ... \n",
              "561600      1\n",
              "856500      1\n",
              "907687      1\n",
              "307999      1\n",
              "146000      1\n",
              "Name: Price, Length: 2901, dtype: int64"
            ]
          },
          "execution_count": 64,
          "metadata": {},
          "output_type": "execute_result"
        }
      ],
      "source": [
        "type_counts=dt['Price'].value_counts()\n",
        "type_counts"
      ]
    },
    {
      "cell_type": "code",
      "execution_count": null,
      "id": "824e3afa",
      "metadata": {
        "id": "824e3afa",
        "outputId": "bce12325-a340-4ee0-9971-7e0b6dff6714"
      },
      "outputs": [
        {
          "data": {
            "image/png": "[encoded data removed]",
            "text/plain": [
              "<Figure size 2000x1000 with 1 Axes>"
            ]
          },
          "metadata": {},
          "output_type": "display_data"
        }
      ],
      "source": [
        "sns.set(style='darkgrid')\n",
        "plt.figure(figsize=(20,10))\n",
        "ax=sns.countplot(x='Price',data=dt)"
      ]
    },
    {
      "cell_type": "markdown",
      "id": "9116b336",
      "metadata": {
        "id": "9116b336"
      },
      "source": [
        "# Dependent and Independent Variables"
      ]
    },
    {
      "cell_type": "code",
      "execution_count": null,
      "id": "3f8026fd",
      "metadata": {
        "id": "3f8026fd",
        "outputId": "9b4c9b55-7d13-4283-982d-4a58121600df"
      },
      "outputs": [
        {
          "name": "stdout",
          "output_type": "stream",
          "text": [
            "                 id          Date  number of bedrooms  number of bathrooms  \\\n",
            "count  1.462000e+04  14620.000000        14620.000000         14620.000000   \n",
            "mean   6.762821e+09  42604.538646            3.379343             2.129583   \n",
            "std    6.237575e+03     67.347991            0.938719             0.769934   \n",
            "min    6.762810e+09  42491.000000            1.000000             0.500000   \n",
            "25%    6.762815e+09  42546.000000            3.000000             1.750000   \n",
            "50%    6.762821e+09  42600.000000            3.000000             2.250000   \n",
            "75%    6.762826e+09  42662.000000            4.000000             2.500000   \n",
            "max    6.762832e+09  42734.000000           33.000000             8.000000   \n",
            "\n",
            "        living area      lot area  number of floors  waterfront present  \\\n",
            "count  14620.000000  1.462000e+04      14620.000000        14620.000000   \n",
            "mean    2098.262996  1.509328e+04          1.502360            0.007661   \n",
            "std      928.275721  3.791962e+04          0.540239            0.087193   \n",
            "min      370.000000  5.200000e+02          1.000000            0.000000   \n",
            "25%     1440.000000  5.010750e+03          1.000000            0.000000   \n",
            "50%     1930.000000  7.620000e+03          1.500000            0.000000   \n",
            "75%     2570.000000  1.080000e+04          2.000000            0.000000   \n",
            "max    13540.000000  1.074218e+06          3.500000            1.000000   \n",
            "\n",
            "       number of views  condition of the house  ...    Built Year  \\\n",
            "count     14620.000000            14620.000000  ...  14620.000000   \n",
            "mean          0.233105                3.430506  ...   1970.926402   \n",
            "std           0.766259                0.664151  ...     29.493625   \n",
            "min           0.000000                1.000000  ...   1900.000000   \n",
            "25%           0.000000                3.000000  ...   1951.000000   \n",
            "50%           0.000000                3.000000  ...   1975.000000   \n",
            "75%           0.000000                4.000000  ...   1997.000000   \n",
            "max           4.000000                5.000000  ...   2015.000000   \n",
            "\n",
            "       Renovation Year    Postal Code     Lattitude     Longitude  \\\n",
            "count     14620.000000   14620.000000  14620.000000  14620.000000   \n",
            "mean         90.924008  122033.062244     52.792848   -114.404007   \n",
            "std         416.216661      19.082418      0.137522      0.141326   \n",
            "min           0.000000  122003.000000     52.385900   -114.709000   \n",
            "25%           0.000000  122017.000000     52.707600   -114.519000   \n",
            "50%           0.000000  122032.000000     52.806400   -114.421000   \n",
            "75%           0.000000  122048.000000     52.908900   -114.315000   \n",
            "max        2015.000000  122072.000000     53.007600   -113.505000   \n",
            "\n",
            "       living_area_renov  lot_area_renov  Number of schools nearby  \\\n",
            "count       14620.000000    14620.000000              14620.000000   \n",
            "mean         1996.702257    12753.500068                  2.012244   \n",
            "std           691.093366    26058.414467                  0.817284   \n",
            "min           460.000000      651.000000                  1.000000   \n",
            "25%          1490.000000     5097.750000                  1.000000   \n",
            "50%          1850.000000     7620.000000                  2.000000   \n",
            "75%          2380.000000    10125.000000                  3.000000   \n",
            "max          6110.000000   560617.000000                  3.000000   \n",
            "\n",
            "       Distance from the airport         Price  \n",
            "count               14620.000000  1.462000e+04  \n",
            "mean                   64.950958  5.389322e+05  \n",
            "std                     8.936008  3.675324e+05  \n",
            "min                    50.000000  7.800000e+04  \n",
            "25%                    57.000000  3.200000e+05  \n",
            "50%                    65.000000  4.500000e+05  \n",
            "75%                    73.000000  6.450000e+05  \n",
            "max                    80.000000  7.700000e+06  \n",
            "\n",
            "[8 rows x 23 columns]\n"
          ]
        }
      ],
      "source": [
        "print(dt.describe())"
      ]
    },
    {
      "cell_type": "code",
      "execution_count": null,
      "id": "132ca311",
      "metadata": {
        "id": "132ca311"
      },
      "outputs": [],
      "source": [
        "x=dt.iloc[:,:-1].values"
      ]
    },
    {
      "cell_type": "code",
      "execution_count": null,
      "id": "1311ba23",
      "metadata": {
        "id": "1311ba23"
      },
      "outputs": [],
      "source": [
        "y=dt.iloc[:,:-1].values"
      ]
    },
    {
      "cell_type": "code",
      "execution_count": null,
      "id": "88877258",
      "metadata": {
        "id": "88877258",
        "outputId": "1f77be5f-fd67-4f38-a1e8-c46b855d3a64"
      },
      "outputs": [
        {
          "name": "stdout",
          "output_type": "stream",
          "text": [
            "[[6.76281014e+09 4.24910000e+04 5.00000000e+00 ... 5.40000000e+03\n",
            "  2.00000000e+00 5.80000000e+01]\n",
            " [6.76281064e+09 4.24910000e+04 4.00000000e+00 ... 4.00000000e+03\n",
            "  2.00000000e+00 5.10000000e+01]\n",
            " [6.76281100e+09 4.24910000e+04 5.00000000e+00 ... 6.60000000e+03\n",
            "  1.00000000e+00 5.30000000e+01]\n",
            " ...\n",
            " [6.76283062e+09 4.27340000e+04 2.00000000e+00 ... 6.12000000e+03\n",
            "  2.00000000e+00 6.40000000e+01]\n",
            " [6.76283071e+09 4.27340000e+04 4.00000000e+00 ... 6.63100000e+03\n",
            "  3.00000000e+00 5.40000000e+01]\n",
            " [6.76283146e+09 4.27340000e+04 3.00000000e+00 ... 3.48000000e+03\n",
            "  2.00000000e+00 5.50000000e+01]]\n"
          ]
        }
      ],
      "source": [
        "print(x)"
      ]
    },
    {
      "cell_type": "markdown",
      "id": "df54d9b2",
      "metadata": {
        "id": "df54d9b2"
      },
      "source": [
        "# Measure the performance using metrics"
      ]
    },
    {
      "cell_type": "code",
      "execution_count": null,
      "id": "1c539e4a",
      "metadata": {
        "id": "1c539e4a"
      },
      "outputs": [],
      "source": [
        "from sklearn import metrics"
      ]
    },
    {
      "cell_type": "code",
      "execution_count": null,
      "id": "26927709",
      "metadata": {
        "id": "26927709"
      },
      "outputs": [],
      "source": [
        "c=\"Price\"\n",
        "d=\"number of bathrooms\"\n",
        "f=\"number of bedrooms\""
      ]
    },
    {
      "cell_type": "code",
      "execution_count": null,
      "id": "69507836",
      "metadata": {
        "id": "69507836",
        "outputId": "ebf7221e-87b5-4622-8b5f-d8a44d56ea97"
      },
      "outputs": [
        {
          "name": "stdout",
          "output_type": "stream",
          "text": [
            "[[4 1 1]\n",
            " [3 6 0]\n",
            " [6 2 2]]\n",
            "                     precision    recall  f1-score   support\n",
            "\n",
            "              Price      0.308     0.667     0.421         6\n",
            "number of bathrooms      0.667     0.667     0.667         9\n",
            " number of bedrooms      0.667     0.200     0.308        10\n",
            "\n",
            "           accuracy                          0.480        25\n",
            "          macro avg      0.547     0.511     0.465        25\n",
            "       weighted avg      0.581     0.480     0.464        25\n",
            "\n"
          ]
        }
      ],
      "source": [
        "y_true=[c,c,c,c,c,c,f,f,f,f,f,f,f,f,f,f,d,d,d,d,d,d,d,d,d]\n",
        "y_pred=[c,c,c,c,d,f,c,c,c,c,c,c,d,d,f,f,c,c,c,d,d,d,d,d,d]\n",
        "print(metrics.confusion_matrix(y_true,y_pred))\n",
        "print(metrics.classification_report(y_true,y_pred,digits=3))"
      ]
    },
    {
      "cell_type": "code",
      "execution_count": null,
      "id": "8041d1cb",
      "metadata": {
        "id": "8041d1cb"
      },
      "outputs": [],
      "source": []
    }
  ],
  "metadata": {
    "kernelspec": {
      "display_name": "Python 3 (ipykernel)",
      "language": "python",
      "name": "python3"
    },
    "language_info": {
      "codemirror_mode": {
        "name": "ipython",
        "version": 3
      },
      "file_extension": ".py",
      "mimetype": "text/x-python",
      "name": "python",
      "nbconvert_exporter": "python",
      "pygments_lexer": "ipython3",
      "version": "3.10.9"
    },
    "colab": {
      "provenance": []
    }
  },
  "nbformat": 4,
  "nbformat_minor": 5
}